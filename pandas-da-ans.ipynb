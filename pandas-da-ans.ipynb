{
 "cells": [
  {
   "cell_type": "code",
   "execution_count": 141,
   "outputs": [
    {
     "name": "stdout",
     "output_type": "stream",
     "text": [
      "<class 'pandas.core.frame.DataFrame'>\n",
      "RangeIndex: 199 entries, 0 to 198\n",
      "Data columns (total 26 columns):\n",
      " #   Column                  Non-Null Count  Dtype  \n",
      "---  ------                  --------------  -----  \n",
      " 0   dr_number               199 non-null    int64  \n",
      " 1   date_reported           199 non-null    object \n",
      " 2   date_occurred           199 non-null    object \n",
      " 3   time_occurred           199 non-null    int64  \n",
      " 4   area_id                 199 non-null    int64  \n",
      " 5   area_name               199 non-null    object \n",
      " 6   reporting_district      199 non-null    int64  \n",
      " 7   crime_code              199 non-null    int64  \n",
      " 8   crime_code_description  199 non-null    object \n",
      " 9   mo_codes                130 non-null    object \n",
      " 10  victim_age              118 non-null    float64\n",
      " 11  victim_sex              136 non-null    object \n",
      " 12  victim_descent          136 non-null    object \n",
      " 13  premise_code            199 non-null    int64  \n",
      " 14  premise_description     199 non-null    object \n",
      " 15  weapon _used_code       76 non-null     float64\n",
      " 16  weapon_description      76 non-null     object \n",
      " 17  status_code             199 non-null    object \n",
      " 18  status_description      199 non-null    object \n",
      " 19  crime_code_1            199 non-null    int64  \n",
      " 20  crime_code_2            36 non-null     float64\n",
      " 21  crime_code_3            0 non-null      float64\n",
      " 22  crime_code_4            0 non-null      float64\n",
      " 23  address                 199 non-null    object \n",
      " 24  cross_street            95 non-null     object \n",
      " 25  location                199 non-null    object \n",
      "dtypes: float64(5), int64(7), object(14)\n",
      "memory usage: 40.6+ KB\n"
     ]
    }
   ],
   "source": [
    "import pandas as pd\n",
    "import numpy as np\n",
    "import matplotlib.pyplot as plt\n",
    "from pygments.lexers import q\n",
    "\n",
    "crime = pd.read_csv(\"la_crime_200_recs.csv\")\n",
    "crime.info()"
   ],
   "metadata": {
    "collapsed": false,
    "ExecuteTime": {
     "end_time": "2023-12-16T01:20:44.243172500Z",
     "start_time": "2023-12-16T01:20:44.038302600Z"
    }
   },
   "id": "8738df1fa735cbfe"
  },
  {
   "cell_type": "markdown",
   "source": [
    "Имеем 199 строк и 26 столбцов. Также в выводе отображено количесвто заполненных ячеек и типы данных в них."
   ],
   "metadata": {
    "collapsed": false
   },
   "id": "d5f1be5bdd8c11be"
  },
  {
   "cell_type": "code",
   "execution_count": 142,
   "outputs": [
    {
     "data": {
      "text/plain": "victim_sex\nM    82\nF    54\nName: count, dtype: int64"
     },
     "execution_count": 142,
     "metadata": {},
     "output_type": "execute_result"
    }
   ],
   "source": [
    "crime[\"victim_sex\"].value_counts()"
   ],
   "metadata": {
    "collapsed": false,
    "ExecuteTime": {
     "end_time": "2023-12-16T01:20:44.263720600Z",
     "start_time": "2023-12-16T01:20:44.246172300Z"
    }
   },
   "id": "2100a03f4081a94b"
  },
  {
   "cell_type": "markdown",
   "source": [
    "После отработки этого блока можно увидеть, что мужчины чаще становятся жертвами преступлений"
   ],
   "metadata": {
    "collapsed": false
   },
   "id": "6a8173d6d0c991c6"
  },
  {
   "cell_type": "code",
   "execution_count": 143,
   "outputs": [
    {
     "data": {
      "text/plain": "    victim_sex  victim_age\n0            F        30.0\n4            M        84.0\n5            F        49.0\n9            F        27.0\n12           M        42.0\n13           M        29.0\n14           M        12.0\n15           F        19.0\n16           M        23.0\n17           F        39.0\n18           F        18.0\n19           M        25.0\n20           F        34.0\n21           M        37.0\n22           F        50.0\n23           F        20.0\n24           F        32.0\n25           F        18.0\n27           M        30.0\n28           M        24.0\n29           F        48.0\n30           M        18.0\n31           M        27.0\n32           F        24.0\n33           F        45.0\n34           F        50.0\n35           F        60.0\n37           F        45.0\n38           M        40.0\n41           M        23.0\n44           M        46.0\n45           M        22.0\n46           F        49.0\n47           F        53.0\n48           F        36.0\n49           M        57.0\n50           F        56.0\n51           M        26.0\n52           M        52.0\n53           F        33.0\n54           M        23.0\n55           M        21.0\n56           F        21.0\n57           M        29.0\n58           M        57.0\n59           M        59.0\n60           M        29.0\n61           F        29.0\n63           M        28.0\n64           F        33.0\n65           F        35.0\n66           M        45.0\n67           M        18.0\n69           M        46.0\n70           F        48.0\n71           M        45.0\n72           F        29.0\n73           M        35.0\n74           M        51.0\n76           M        12.0\n77           M        50.0\n78           M        12.0\n79           M        22.0\n80           F        46.0\n81           F        46.0\n82           M        29.0\n83           M        12.0\n84           M        29.0\n87           M        34.0\n88           M        32.0\n89           F        21.0\n90           F        46.0\n91           F        20.0\n94           F        32.0\n95           F        41.0\n103          M        42.0\n106          M        11.0\n107          M        27.0\n109          F        10.0\n116          F        31.0\n122          M        43.0\n125          F        22.0\n127          M        19.0\n129          M        39.0\n135          F        38.0\n136          M        34.0\n139          M        73.0\n141          M        56.0\n142          M        19.0\n144          M        37.0\n145          M        36.0\n147          F        22.0\n156          M        53.0\n157          F        27.0\n160          M        58.0\n161          M        24.0\n170          M        12.0\n171          M        23.0\n172          F        59.0\n173          M        48.0\n176          M        50.0\n177          F        52.0\n178          F        29.0\n179          M        22.0\n180          F        35.0\n183          F        48.0\n185          M        70.0\n186          M        30.0\n187          F        21.0\n188          M        21.0\n189          F        33.0\n190          M        27.0\n191          F        22.0\n192          M        19.0\n193          M        24.0\n195          F        42.0\n198          F        53.0",
      "text/html": "<div>\n<style scoped>\n    .dataframe tbody tr th:only-of-type {\n        vertical-align: middle;\n    }\n\n    .dataframe tbody tr th {\n        vertical-align: top;\n    }\n\n    .dataframe thead th {\n        text-align: right;\n    }\n</style>\n<table border=\"1\" class=\"dataframe\">\n  <thead>\n    <tr style=\"text-align: right;\">\n      <th></th>\n      <th>victim_sex</th>\n      <th>victim_age</th>\n    </tr>\n  </thead>\n  <tbody>\n    <tr>\n      <th>0</th>\n      <td>F</td>\n      <td>30.0</td>\n    </tr>\n    <tr>\n      <th>4</th>\n      <td>M</td>\n      <td>84.0</td>\n    </tr>\n    <tr>\n      <th>5</th>\n      <td>F</td>\n      <td>49.0</td>\n    </tr>\n    <tr>\n      <th>9</th>\n      <td>F</td>\n      <td>27.0</td>\n    </tr>\n    <tr>\n      <th>12</th>\n      <td>M</td>\n      <td>42.0</td>\n    </tr>\n    <tr>\n      <th>13</th>\n      <td>M</td>\n      <td>29.0</td>\n    </tr>\n    <tr>\n      <th>14</th>\n      <td>M</td>\n      <td>12.0</td>\n    </tr>\n    <tr>\n      <th>15</th>\n      <td>F</td>\n      <td>19.0</td>\n    </tr>\n    <tr>\n      <th>16</th>\n      <td>M</td>\n      <td>23.0</td>\n    </tr>\n    <tr>\n      <th>17</th>\n      <td>F</td>\n      <td>39.0</td>\n    </tr>\n    <tr>\n      <th>18</th>\n      <td>F</td>\n      <td>18.0</td>\n    </tr>\n    <tr>\n      <th>19</th>\n      <td>M</td>\n      <td>25.0</td>\n    </tr>\n    <tr>\n      <th>20</th>\n      <td>F</td>\n      <td>34.0</td>\n    </tr>\n    <tr>\n      <th>21</th>\n      <td>M</td>\n      <td>37.0</td>\n    </tr>\n    <tr>\n      <th>22</th>\n      <td>F</td>\n      <td>50.0</td>\n    </tr>\n    <tr>\n      <th>23</th>\n      <td>F</td>\n      <td>20.0</td>\n    </tr>\n    <tr>\n      <th>24</th>\n      <td>F</td>\n      <td>32.0</td>\n    </tr>\n    <tr>\n      <th>25</th>\n      <td>F</td>\n      <td>18.0</td>\n    </tr>\n    <tr>\n      <th>27</th>\n      <td>M</td>\n      <td>30.0</td>\n    </tr>\n    <tr>\n      <th>28</th>\n      <td>M</td>\n      <td>24.0</td>\n    </tr>\n    <tr>\n      <th>29</th>\n      <td>F</td>\n      <td>48.0</td>\n    </tr>\n    <tr>\n      <th>30</th>\n      <td>M</td>\n      <td>18.0</td>\n    </tr>\n    <tr>\n      <th>31</th>\n      <td>M</td>\n      <td>27.0</td>\n    </tr>\n    <tr>\n      <th>32</th>\n      <td>F</td>\n      <td>24.0</td>\n    </tr>\n    <tr>\n      <th>33</th>\n      <td>F</td>\n      <td>45.0</td>\n    </tr>\n    <tr>\n      <th>34</th>\n      <td>F</td>\n      <td>50.0</td>\n    </tr>\n    <tr>\n      <th>35</th>\n      <td>F</td>\n      <td>60.0</td>\n    </tr>\n    <tr>\n      <th>37</th>\n      <td>F</td>\n      <td>45.0</td>\n    </tr>\n    <tr>\n      <th>38</th>\n      <td>M</td>\n      <td>40.0</td>\n    </tr>\n    <tr>\n      <th>41</th>\n      <td>M</td>\n      <td>23.0</td>\n    </tr>\n    <tr>\n      <th>44</th>\n      <td>M</td>\n      <td>46.0</td>\n    </tr>\n    <tr>\n      <th>45</th>\n      <td>M</td>\n      <td>22.0</td>\n    </tr>\n    <tr>\n      <th>46</th>\n      <td>F</td>\n      <td>49.0</td>\n    </tr>\n    <tr>\n      <th>47</th>\n      <td>F</td>\n      <td>53.0</td>\n    </tr>\n    <tr>\n      <th>48</th>\n      <td>F</td>\n      <td>36.0</td>\n    </tr>\n    <tr>\n      <th>49</th>\n      <td>M</td>\n      <td>57.0</td>\n    </tr>\n    <tr>\n      <th>50</th>\n      <td>F</td>\n      <td>56.0</td>\n    </tr>\n    <tr>\n      <th>51</th>\n      <td>M</td>\n      <td>26.0</td>\n    </tr>\n    <tr>\n      <th>52</th>\n      <td>M</td>\n      <td>52.0</td>\n    </tr>\n    <tr>\n      <th>53</th>\n      <td>F</td>\n      <td>33.0</td>\n    </tr>\n    <tr>\n      <th>54</th>\n      <td>M</td>\n      <td>23.0</td>\n    </tr>\n    <tr>\n      <th>55</th>\n      <td>M</td>\n      <td>21.0</td>\n    </tr>\n    <tr>\n      <th>56</th>\n      <td>F</td>\n      <td>21.0</td>\n    </tr>\n    <tr>\n      <th>57</th>\n      <td>M</td>\n      <td>29.0</td>\n    </tr>\n    <tr>\n      <th>58</th>\n      <td>M</td>\n      <td>57.0</td>\n    </tr>\n    <tr>\n      <th>59</th>\n      <td>M</td>\n      <td>59.0</td>\n    </tr>\n    <tr>\n      <th>60</th>\n      <td>M</td>\n      <td>29.0</td>\n    </tr>\n    <tr>\n      <th>61</th>\n      <td>F</td>\n      <td>29.0</td>\n    </tr>\n    <tr>\n      <th>63</th>\n      <td>M</td>\n      <td>28.0</td>\n    </tr>\n    <tr>\n      <th>64</th>\n      <td>F</td>\n      <td>33.0</td>\n    </tr>\n    <tr>\n      <th>65</th>\n      <td>F</td>\n      <td>35.0</td>\n    </tr>\n    <tr>\n      <th>66</th>\n      <td>M</td>\n      <td>45.0</td>\n    </tr>\n    <tr>\n      <th>67</th>\n      <td>M</td>\n      <td>18.0</td>\n    </tr>\n    <tr>\n      <th>69</th>\n      <td>M</td>\n      <td>46.0</td>\n    </tr>\n    <tr>\n      <th>70</th>\n      <td>F</td>\n      <td>48.0</td>\n    </tr>\n    <tr>\n      <th>71</th>\n      <td>M</td>\n      <td>45.0</td>\n    </tr>\n    <tr>\n      <th>72</th>\n      <td>F</td>\n      <td>29.0</td>\n    </tr>\n    <tr>\n      <th>73</th>\n      <td>M</td>\n      <td>35.0</td>\n    </tr>\n    <tr>\n      <th>74</th>\n      <td>M</td>\n      <td>51.0</td>\n    </tr>\n    <tr>\n      <th>76</th>\n      <td>M</td>\n      <td>12.0</td>\n    </tr>\n    <tr>\n      <th>77</th>\n      <td>M</td>\n      <td>50.0</td>\n    </tr>\n    <tr>\n      <th>78</th>\n      <td>M</td>\n      <td>12.0</td>\n    </tr>\n    <tr>\n      <th>79</th>\n      <td>M</td>\n      <td>22.0</td>\n    </tr>\n    <tr>\n      <th>80</th>\n      <td>F</td>\n      <td>46.0</td>\n    </tr>\n    <tr>\n      <th>81</th>\n      <td>F</td>\n      <td>46.0</td>\n    </tr>\n    <tr>\n      <th>82</th>\n      <td>M</td>\n      <td>29.0</td>\n    </tr>\n    <tr>\n      <th>83</th>\n      <td>M</td>\n      <td>12.0</td>\n    </tr>\n    <tr>\n      <th>84</th>\n      <td>M</td>\n      <td>29.0</td>\n    </tr>\n    <tr>\n      <th>87</th>\n      <td>M</td>\n      <td>34.0</td>\n    </tr>\n    <tr>\n      <th>88</th>\n      <td>M</td>\n      <td>32.0</td>\n    </tr>\n    <tr>\n      <th>89</th>\n      <td>F</td>\n      <td>21.0</td>\n    </tr>\n    <tr>\n      <th>90</th>\n      <td>F</td>\n      <td>46.0</td>\n    </tr>\n    <tr>\n      <th>91</th>\n      <td>F</td>\n      <td>20.0</td>\n    </tr>\n    <tr>\n      <th>94</th>\n      <td>F</td>\n      <td>32.0</td>\n    </tr>\n    <tr>\n      <th>95</th>\n      <td>F</td>\n      <td>41.0</td>\n    </tr>\n    <tr>\n      <th>103</th>\n      <td>M</td>\n      <td>42.0</td>\n    </tr>\n    <tr>\n      <th>106</th>\n      <td>M</td>\n      <td>11.0</td>\n    </tr>\n    <tr>\n      <th>107</th>\n      <td>M</td>\n      <td>27.0</td>\n    </tr>\n    <tr>\n      <th>109</th>\n      <td>F</td>\n      <td>10.0</td>\n    </tr>\n    <tr>\n      <th>116</th>\n      <td>F</td>\n      <td>31.0</td>\n    </tr>\n    <tr>\n      <th>122</th>\n      <td>M</td>\n      <td>43.0</td>\n    </tr>\n    <tr>\n      <th>125</th>\n      <td>F</td>\n      <td>22.0</td>\n    </tr>\n    <tr>\n      <th>127</th>\n      <td>M</td>\n      <td>19.0</td>\n    </tr>\n    <tr>\n      <th>129</th>\n      <td>M</td>\n      <td>39.0</td>\n    </tr>\n    <tr>\n      <th>135</th>\n      <td>F</td>\n      <td>38.0</td>\n    </tr>\n    <tr>\n      <th>136</th>\n      <td>M</td>\n      <td>34.0</td>\n    </tr>\n    <tr>\n      <th>139</th>\n      <td>M</td>\n      <td>73.0</td>\n    </tr>\n    <tr>\n      <th>141</th>\n      <td>M</td>\n      <td>56.0</td>\n    </tr>\n    <tr>\n      <th>142</th>\n      <td>M</td>\n      <td>19.0</td>\n    </tr>\n    <tr>\n      <th>144</th>\n      <td>M</td>\n      <td>37.0</td>\n    </tr>\n    <tr>\n      <th>145</th>\n      <td>M</td>\n      <td>36.0</td>\n    </tr>\n    <tr>\n      <th>147</th>\n      <td>F</td>\n      <td>22.0</td>\n    </tr>\n    <tr>\n      <th>156</th>\n      <td>M</td>\n      <td>53.0</td>\n    </tr>\n    <tr>\n      <th>157</th>\n      <td>F</td>\n      <td>27.0</td>\n    </tr>\n    <tr>\n      <th>160</th>\n      <td>M</td>\n      <td>58.0</td>\n    </tr>\n    <tr>\n      <th>161</th>\n      <td>M</td>\n      <td>24.0</td>\n    </tr>\n    <tr>\n      <th>170</th>\n      <td>M</td>\n      <td>12.0</td>\n    </tr>\n    <tr>\n      <th>171</th>\n      <td>M</td>\n      <td>23.0</td>\n    </tr>\n    <tr>\n      <th>172</th>\n      <td>F</td>\n      <td>59.0</td>\n    </tr>\n    <tr>\n      <th>173</th>\n      <td>M</td>\n      <td>48.0</td>\n    </tr>\n    <tr>\n      <th>176</th>\n      <td>M</td>\n      <td>50.0</td>\n    </tr>\n    <tr>\n      <th>177</th>\n      <td>F</td>\n      <td>52.0</td>\n    </tr>\n    <tr>\n      <th>178</th>\n      <td>F</td>\n      <td>29.0</td>\n    </tr>\n    <tr>\n      <th>179</th>\n      <td>M</td>\n      <td>22.0</td>\n    </tr>\n    <tr>\n      <th>180</th>\n      <td>F</td>\n      <td>35.0</td>\n    </tr>\n    <tr>\n      <th>183</th>\n      <td>F</td>\n      <td>48.0</td>\n    </tr>\n    <tr>\n      <th>185</th>\n      <td>M</td>\n      <td>70.0</td>\n    </tr>\n    <tr>\n      <th>186</th>\n      <td>M</td>\n      <td>30.0</td>\n    </tr>\n    <tr>\n      <th>187</th>\n      <td>F</td>\n      <td>21.0</td>\n    </tr>\n    <tr>\n      <th>188</th>\n      <td>M</td>\n      <td>21.0</td>\n    </tr>\n    <tr>\n      <th>189</th>\n      <td>F</td>\n      <td>33.0</td>\n    </tr>\n    <tr>\n      <th>190</th>\n      <td>M</td>\n      <td>27.0</td>\n    </tr>\n    <tr>\n      <th>191</th>\n      <td>F</td>\n      <td>22.0</td>\n    </tr>\n    <tr>\n      <th>192</th>\n      <td>M</td>\n      <td>19.0</td>\n    </tr>\n    <tr>\n      <th>193</th>\n      <td>M</td>\n      <td>24.0</td>\n    </tr>\n    <tr>\n      <th>195</th>\n      <td>F</td>\n      <td>42.0</td>\n    </tr>\n    <tr>\n      <th>198</th>\n      <td>F</td>\n      <td>53.0</td>\n    </tr>\n  </tbody>\n</table>\n</div>"
     },
     "execution_count": 143,
     "metadata": {},
     "output_type": "execute_result"
    }
   ],
   "source": [
    "df1 = crime[['victim_sex', 'victim_age']].copy()\n",
    "df1.dropna(inplace=True)\n",
    "df1"
   ],
   "metadata": {
    "collapsed": false,
    "ExecuteTime": {
     "end_time": "2023-12-16T01:20:44.800920500Z",
     "start_time": "2023-12-16T01:20:44.267721500Z"
    }
   },
   "id": "f002ff7322b7fddb"
  },
  {
   "cell_type": "markdown",
   "source": [
    "Создаем новый датафрейм, в котором будут находиться пол и возраст каждой жерты(ипользуя метод dropna мы удаляем строчку, в которой не были указан пол и/или возраст"
   ],
   "metadata": {
    "collapsed": false
   },
   "id": "2742fac1a17f30d6"
  },
  {
   "cell_type": "code",
   "execution_count": 144,
   "outputs": [
    {
     "data": {
      "text/plain": "    victim_sex  victim_age\n0            F        30.0\n50           F        56.0\n53           F        33.0\n56           F        21.0\n61           F        29.0\n64           F        33.0\n65           F        35.0\n70           F        48.0\n72           F        29.0\n195          F        42.0\n80           F        46.0\n81           F        46.0\n89           F        21.0\n90           F        46.0\n91           F        20.0\n48           F        36.0\n94           F        32.0\n109          F        10.0\n116          F        31.0\n125          F        22.0\n135          F        38.0\n147          F        22.0\n157          F        27.0\n172          F        59.0\n177          F        52.0\n178          F        29.0\n180          F        35.0\n183          F        48.0\n187          F        21.0\n189          F        33.0\n191          F        22.0\n95           F        41.0\n47           F        53.0\n198          F        53.0\n32           F        24.0\n46           F        49.0\n23           F        20.0\n24           F        32.0\n25           F        18.0\n29           F        48.0\n18           F        18.0\n17           F        39.0\n22           F        50.0\n33           F        45.0\n15           F        19.0\n34           F        50.0\n35           F        60.0\n20           F        34.0\n5            F        49.0\n9            F        27.0\n37           F        45.0\n145          M        36.0\n144          M        37.0\n142          M        19.0\n141          M        56.0\n139          M        73.0\n14           M        12.0\n190          M        27.0\n4            M        84.0\n192          M        19.0\n193          M        24.0\n129          M        39.0\n127          M        19.0\n19           M        25.0\n136          M        34.0\n188          M        21.0\n160          M        58.0\n161          M        24.0\n170          M        12.0\n171          M        23.0\n186          M        30.0\n16           M        23.0\n185          M        70.0\n173          M        48.0\n176          M        50.0\n12           M        42.0\n13           M        29.0\n179          M        22.0\n156          M        53.0\n45           M        22.0\n103          M        42.0\n21           M        37.0\n66           M        45.0\n63           M        28.0\n60           M        29.0\n59           M        59.0\n58           M        57.0\n57           M        29.0\n67           M        18.0\n38           M        40.0\n54           M        23.0\n41           M        23.0\n52           M        52.0\n51           M        26.0\n44           M        46.0\n49           M        57.0\n55           M        21.0\n69           M        46.0\n71           M        45.0\n73           M        35.0\n107          M        27.0\n106          M        11.0\n27           M        30.0\n28           M        24.0\n88           M        32.0\n87           M        34.0\n84           M        29.0\n83           M        12.0\n82           M        29.0\n30           M        18.0\n79           M        22.0\n78           M        12.0\n77           M        50.0\n76           M        12.0\n31           M        27.0\n122          M        43.0\n74           M        51.0",
      "text/html": "<div>\n<style scoped>\n    .dataframe tbody tr th:only-of-type {\n        vertical-align: middle;\n    }\n\n    .dataframe tbody tr th {\n        vertical-align: top;\n    }\n\n    .dataframe thead th {\n        text-align: right;\n    }\n</style>\n<table border=\"1\" class=\"dataframe\">\n  <thead>\n    <tr style=\"text-align: right;\">\n      <th></th>\n      <th>victim_sex</th>\n      <th>victim_age</th>\n    </tr>\n  </thead>\n  <tbody>\n    <tr>\n      <th>0</th>\n      <td>F</td>\n      <td>30.0</td>\n    </tr>\n    <tr>\n      <th>50</th>\n      <td>F</td>\n      <td>56.0</td>\n    </tr>\n    <tr>\n      <th>53</th>\n      <td>F</td>\n      <td>33.0</td>\n    </tr>\n    <tr>\n      <th>56</th>\n      <td>F</td>\n      <td>21.0</td>\n    </tr>\n    <tr>\n      <th>61</th>\n      <td>F</td>\n      <td>29.0</td>\n    </tr>\n    <tr>\n      <th>64</th>\n      <td>F</td>\n      <td>33.0</td>\n    </tr>\n    <tr>\n      <th>65</th>\n      <td>F</td>\n      <td>35.0</td>\n    </tr>\n    <tr>\n      <th>70</th>\n      <td>F</td>\n      <td>48.0</td>\n    </tr>\n    <tr>\n      <th>72</th>\n      <td>F</td>\n      <td>29.0</td>\n    </tr>\n    <tr>\n      <th>195</th>\n      <td>F</td>\n      <td>42.0</td>\n    </tr>\n    <tr>\n      <th>80</th>\n      <td>F</td>\n      <td>46.0</td>\n    </tr>\n    <tr>\n      <th>81</th>\n      <td>F</td>\n      <td>46.0</td>\n    </tr>\n    <tr>\n      <th>89</th>\n      <td>F</td>\n      <td>21.0</td>\n    </tr>\n    <tr>\n      <th>90</th>\n      <td>F</td>\n      <td>46.0</td>\n    </tr>\n    <tr>\n      <th>91</th>\n      <td>F</td>\n      <td>20.0</td>\n    </tr>\n    <tr>\n      <th>48</th>\n      <td>F</td>\n      <td>36.0</td>\n    </tr>\n    <tr>\n      <th>94</th>\n      <td>F</td>\n      <td>32.0</td>\n    </tr>\n    <tr>\n      <th>109</th>\n      <td>F</td>\n      <td>10.0</td>\n    </tr>\n    <tr>\n      <th>116</th>\n      <td>F</td>\n      <td>31.0</td>\n    </tr>\n    <tr>\n      <th>125</th>\n      <td>F</td>\n      <td>22.0</td>\n    </tr>\n    <tr>\n      <th>135</th>\n      <td>F</td>\n      <td>38.0</td>\n    </tr>\n    <tr>\n      <th>147</th>\n      <td>F</td>\n      <td>22.0</td>\n    </tr>\n    <tr>\n      <th>157</th>\n      <td>F</td>\n      <td>27.0</td>\n    </tr>\n    <tr>\n      <th>172</th>\n      <td>F</td>\n      <td>59.0</td>\n    </tr>\n    <tr>\n      <th>177</th>\n      <td>F</td>\n      <td>52.0</td>\n    </tr>\n    <tr>\n      <th>178</th>\n      <td>F</td>\n      <td>29.0</td>\n    </tr>\n    <tr>\n      <th>180</th>\n      <td>F</td>\n      <td>35.0</td>\n    </tr>\n    <tr>\n      <th>183</th>\n      <td>F</td>\n      <td>48.0</td>\n    </tr>\n    <tr>\n      <th>187</th>\n      <td>F</td>\n      <td>21.0</td>\n    </tr>\n    <tr>\n      <th>189</th>\n      <td>F</td>\n      <td>33.0</td>\n    </tr>\n    <tr>\n      <th>191</th>\n      <td>F</td>\n      <td>22.0</td>\n    </tr>\n    <tr>\n      <th>95</th>\n      <td>F</td>\n      <td>41.0</td>\n    </tr>\n    <tr>\n      <th>47</th>\n      <td>F</td>\n      <td>53.0</td>\n    </tr>\n    <tr>\n      <th>198</th>\n      <td>F</td>\n      <td>53.0</td>\n    </tr>\n    <tr>\n      <th>32</th>\n      <td>F</td>\n      <td>24.0</td>\n    </tr>\n    <tr>\n      <th>46</th>\n      <td>F</td>\n      <td>49.0</td>\n    </tr>\n    <tr>\n      <th>23</th>\n      <td>F</td>\n      <td>20.0</td>\n    </tr>\n    <tr>\n      <th>24</th>\n      <td>F</td>\n      <td>32.0</td>\n    </tr>\n    <tr>\n      <th>25</th>\n      <td>F</td>\n      <td>18.0</td>\n    </tr>\n    <tr>\n      <th>29</th>\n      <td>F</td>\n      <td>48.0</td>\n    </tr>\n    <tr>\n      <th>18</th>\n      <td>F</td>\n      <td>18.0</td>\n    </tr>\n    <tr>\n      <th>17</th>\n      <td>F</td>\n      <td>39.0</td>\n    </tr>\n    <tr>\n      <th>22</th>\n      <td>F</td>\n      <td>50.0</td>\n    </tr>\n    <tr>\n      <th>33</th>\n      <td>F</td>\n      <td>45.0</td>\n    </tr>\n    <tr>\n      <th>15</th>\n      <td>F</td>\n      <td>19.0</td>\n    </tr>\n    <tr>\n      <th>34</th>\n      <td>F</td>\n      <td>50.0</td>\n    </tr>\n    <tr>\n      <th>35</th>\n      <td>F</td>\n      <td>60.0</td>\n    </tr>\n    <tr>\n      <th>20</th>\n      <td>F</td>\n      <td>34.0</td>\n    </tr>\n    <tr>\n      <th>5</th>\n      <td>F</td>\n      <td>49.0</td>\n    </tr>\n    <tr>\n      <th>9</th>\n      <td>F</td>\n      <td>27.0</td>\n    </tr>\n    <tr>\n      <th>37</th>\n      <td>F</td>\n      <td>45.0</td>\n    </tr>\n    <tr>\n      <th>145</th>\n      <td>M</td>\n      <td>36.0</td>\n    </tr>\n    <tr>\n      <th>144</th>\n      <td>M</td>\n      <td>37.0</td>\n    </tr>\n    <tr>\n      <th>142</th>\n      <td>M</td>\n      <td>19.0</td>\n    </tr>\n    <tr>\n      <th>141</th>\n      <td>M</td>\n      <td>56.0</td>\n    </tr>\n    <tr>\n      <th>139</th>\n      <td>M</td>\n      <td>73.0</td>\n    </tr>\n    <tr>\n      <th>14</th>\n      <td>M</td>\n      <td>12.0</td>\n    </tr>\n    <tr>\n      <th>190</th>\n      <td>M</td>\n      <td>27.0</td>\n    </tr>\n    <tr>\n      <th>4</th>\n      <td>M</td>\n      <td>84.0</td>\n    </tr>\n    <tr>\n      <th>192</th>\n      <td>M</td>\n      <td>19.0</td>\n    </tr>\n    <tr>\n      <th>193</th>\n      <td>M</td>\n      <td>24.0</td>\n    </tr>\n    <tr>\n      <th>129</th>\n      <td>M</td>\n      <td>39.0</td>\n    </tr>\n    <tr>\n      <th>127</th>\n      <td>M</td>\n      <td>19.0</td>\n    </tr>\n    <tr>\n      <th>19</th>\n      <td>M</td>\n      <td>25.0</td>\n    </tr>\n    <tr>\n      <th>136</th>\n      <td>M</td>\n      <td>34.0</td>\n    </tr>\n    <tr>\n      <th>188</th>\n      <td>M</td>\n      <td>21.0</td>\n    </tr>\n    <tr>\n      <th>160</th>\n      <td>M</td>\n      <td>58.0</td>\n    </tr>\n    <tr>\n      <th>161</th>\n      <td>M</td>\n      <td>24.0</td>\n    </tr>\n    <tr>\n      <th>170</th>\n      <td>M</td>\n      <td>12.0</td>\n    </tr>\n    <tr>\n      <th>171</th>\n      <td>M</td>\n      <td>23.0</td>\n    </tr>\n    <tr>\n      <th>186</th>\n      <td>M</td>\n      <td>30.0</td>\n    </tr>\n    <tr>\n      <th>16</th>\n      <td>M</td>\n      <td>23.0</td>\n    </tr>\n    <tr>\n      <th>185</th>\n      <td>M</td>\n      <td>70.0</td>\n    </tr>\n    <tr>\n      <th>173</th>\n      <td>M</td>\n      <td>48.0</td>\n    </tr>\n    <tr>\n      <th>176</th>\n      <td>M</td>\n      <td>50.0</td>\n    </tr>\n    <tr>\n      <th>12</th>\n      <td>M</td>\n      <td>42.0</td>\n    </tr>\n    <tr>\n      <th>13</th>\n      <td>M</td>\n      <td>29.0</td>\n    </tr>\n    <tr>\n      <th>179</th>\n      <td>M</td>\n      <td>22.0</td>\n    </tr>\n    <tr>\n      <th>156</th>\n      <td>M</td>\n      <td>53.0</td>\n    </tr>\n    <tr>\n      <th>45</th>\n      <td>M</td>\n      <td>22.0</td>\n    </tr>\n    <tr>\n      <th>103</th>\n      <td>M</td>\n      <td>42.0</td>\n    </tr>\n    <tr>\n      <th>21</th>\n      <td>M</td>\n      <td>37.0</td>\n    </tr>\n    <tr>\n      <th>66</th>\n      <td>M</td>\n      <td>45.0</td>\n    </tr>\n    <tr>\n      <th>63</th>\n      <td>M</td>\n      <td>28.0</td>\n    </tr>\n    <tr>\n      <th>60</th>\n      <td>M</td>\n      <td>29.0</td>\n    </tr>\n    <tr>\n      <th>59</th>\n      <td>M</td>\n      <td>59.0</td>\n    </tr>\n    <tr>\n      <th>58</th>\n      <td>M</td>\n      <td>57.0</td>\n    </tr>\n    <tr>\n      <th>57</th>\n      <td>M</td>\n      <td>29.0</td>\n    </tr>\n    <tr>\n      <th>67</th>\n      <td>M</td>\n      <td>18.0</td>\n    </tr>\n    <tr>\n      <th>38</th>\n      <td>M</td>\n      <td>40.0</td>\n    </tr>\n    <tr>\n      <th>54</th>\n      <td>M</td>\n      <td>23.0</td>\n    </tr>\n    <tr>\n      <th>41</th>\n      <td>M</td>\n      <td>23.0</td>\n    </tr>\n    <tr>\n      <th>52</th>\n      <td>M</td>\n      <td>52.0</td>\n    </tr>\n    <tr>\n      <th>51</th>\n      <td>M</td>\n      <td>26.0</td>\n    </tr>\n    <tr>\n      <th>44</th>\n      <td>M</td>\n      <td>46.0</td>\n    </tr>\n    <tr>\n      <th>49</th>\n      <td>M</td>\n      <td>57.0</td>\n    </tr>\n    <tr>\n      <th>55</th>\n      <td>M</td>\n      <td>21.0</td>\n    </tr>\n    <tr>\n      <th>69</th>\n      <td>M</td>\n      <td>46.0</td>\n    </tr>\n    <tr>\n      <th>71</th>\n      <td>M</td>\n      <td>45.0</td>\n    </tr>\n    <tr>\n      <th>73</th>\n      <td>M</td>\n      <td>35.0</td>\n    </tr>\n    <tr>\n      <th>107</th>\n      <td>M</td>\n      <td>27.0</td>\n    </tr>\n    <tr>\n      <th>106</th>\n      <td>M</td>\n      <td>11.0</td>\n    </tr>\n    <tr>\n      <th>27</th>\n      <td>M</td>\n      <td>30.0</td>\n    </tr>\n    <tr>\n      <th>28</th>\n      <td>M</td>\n      <td>24.0</td>\n    </tr>\n    <tr>\n      <th>88</th>\n      <td>M</td>\n      <td>32.0</td>\n    </tr>\n    <tr>\n      <th>87</th>\n      <td>M</td>\n      <td>34.0</td>\n    </tr>\n    <tr>\n      <th>84</th>\n      <td>M</td>\n      <td>29.0</td>\n    </tr>\n    <tr>\n      <th>83</th>\n      <td>M</td>\n      <td>12.0</td>\n    </tr>\n    <tr>\n      <th>82</th>\n      <td>M</td>\n      <td>29.0</td>\n    </tr>\n    <tr>\n      <th>30</th>\n      <td>M</td>\n      <td>18.0</td>\n    </tr>\n    <tr>\n      <th>79</th>\n      <td>M</td>\n      <td>22.0</td>\n    </tr>\n    <tr>\n      <th>78</th>\n      <td>M</td>\n      <td>12.0</td>\n    </tr>\n    <tr>\n      <th>77</th>\n      <td>M</td>\n      <td>50.0</td>\n    </tr>\n    <tr>\n      <th>76</th>\n      <td>M</td>\n      <td>12.0</td>\n    </tr>\n    <tr>\n      <th>31</th>\n      <td>M</td>\n      <td>27.0</td>\n    </tr>\n    <tr>\n      <th>122</th>\n      <td>M</td>\n      <td>43.0</td>\n    </tr>\n    <tr>\n      <th>74</th>\n      <td>M</td>\n      <td>51.0</td>\n    </tr>\n  </tbody>\n</table>\n</div>"
     },
     "execution_count": 144,
     "metadata": {},
     "output_type": "execute_result"
    }
   ],
   "source": [
    "df1.sort_values(by=['victim_sex'])"
   ],
   "metadata": {
    "collapsed": false,
    "ExecuteTime": {
     "end_time": "2023-12-16T01:20:44.834928700Z",
     "start_time": "2023-12-16T01:20:44.286866700Z"
    }
   },
   "id": "8bc7aeb175ede6cc"
  },
  {
   "cell_type": "markdown",
   "source": [
    "Для удобства просмотра сортируем наш новый датафрейм по полу жертв."
   ],
   "metadata": {
    "collapsed": false
   },
   "id": "26092356926f632d"
  },
  {
   "cell_type": "code",
   "execution_count": 145,
   "outputs": [
    {
     "data": {
      "text/plain": "<Figure size 640x480 with 1 Axes>",
      "image/png": "[encoded data removed]"
     },
     "metadata": {},
     "output_type": "display_data"
    }
   ],
   "source": [
    "plt.hist(df1[df1.victim_sex==\"M\"].victim_age, bins=100, color = \"green\")\n",
    "plt.grid(True)"
   ],
   "metadata": {
    "collapsed": false,
    "ExecuteTime": {
     "end_time": "2023-12-16T01:20:45.036835800Z",
     "start_time": "2023-12-16T01:20:44.803921Z"
    }
   },
   "id": "7fad63eb996a9af9"
  },
  {
   "cell_type": "markdown",
   "source": [
    "график распределения жертв среди мужчин. По графику видно, что чаще жертвами становятся мужчины в возрасте от 20 до 30 лет"
   ],
   "metadata": {
    "collapsed": false
   },
   "id": "6a5b7a5094d3f5d3"
  },
  {
   "cell_type": "code",
   "execution_count": 146,
   "outputs": [
    {
     "data": {
      "text/plain": "<Figure size 640x480 with 1 Axes>",
      "image/png": "[encoded data removed]"
     },
     "metadata": {},
     "output_type": "display_data"
    }
   ],
   "source": [
    "plt.hist(df1[df1.victim_sex==\"F\"].victim_age, bins=100, color = \"red\")\n",
    "plt.grid(True)"
   ],
   "metadata": {
    "collapsed": false,
    "ExecuteTime": {
     "end_time": "2023-12-16T01:20:45.239487900Z",
     "start_time": "2023-12-16T01:20:44.997837900Z"
    }
   },
   "id": "6985be40e5199fe2"
  },
  {
   "cell_type": "markdown",
   "source": [
    "#график распределения жертв среди женщин"
   ],
   "metadata": {
    "collapsed": false
   },
   "id": "c1f97ebafc6394d0"
  },
  {
   "cell_type": "code",
   "execution_count": 147,
   "outputs": [
    {
     "data": {
      "text/plain": "    victim_sex                             crime_code_description\n0            F                  INTIMATE PARTNER - SIMPLE ASSAULT\n4            M           VANDALISM - MISDEAMEANOR ($399 OR UNDER)\n5            F                                  CRIMINAL HOMICIDE\n9            F         EMBEZZLEMENT, GRAND THEFT ($950.01 & OVER)\n12           M                 THEFT PLAIN - PETTY ($950 & UNDER)\n13           M                                           STALKING\n14           M           SHOPLIFTING - PETTY THEFT ($950 & UNDER)\n15           F                  INTIMATE PARTNER - SIMPLE ASSAULT\n16           M                           BATTERY - SIMPLE ASSAULT\n17           F                  INTIMATE PARTNER - SIMPLE ASSAULT\n18           F                           BATTERY - SIMPLE ASSAULT\n19           M           EMBEZZLEMENT, PETTY THEFT ($950 & UNDER)\n20           F                  INTIMATE PARTNER - SIMPLE ASSAULT\n21           M                   DOCUMENT FORGERY / STOLEN FELONY\n22           F                  INTIMATE PARTNER - SIMPLE ASSAULT\n23           F                           BATTERY - SIMPLE ASSAULT\n24           F                           BATTERY - SIMPLE ASSAULT\n25           F                  INTIMATE PARTNER - SIMPLE ASSAULT\n27           M                                      BIKE - STOLEN\n28           M                                            ROBBERY\n29           F                  INTIMATE PARTNER - SIMPLE ASSAULT\n30           M  SODOMY/SEXUAL CONTACT B/W PENIS OF ONE PERS TO...\n31           M                  INTIMATE PARTNER - SIMPLE ASSAULT\n32           F                  INTIMATE PARTNER - SIMPLE ASSAULT\n33           F                                  ATTEMPTED ROBBERY\n34           F                  INTIMATE PARTNER - SIMPLE ASSAULT\n35           F           VANDALISM - MISDEAMEANOR ($399 OR UNDER)\n36           M                                   RESISTING ARREST\n37           F                                        TRESPASSING\n38           M  THEFT-GRAND ($950.01 & OVER)EXCPT,GUNS,FOWL,LI...\n39           F                                            ROBBERY\n41           M                                        COUNTERFEIT\n43           M                           BATTERY - SIMPLE ASSAULT\n44           M     ASSAULT WITH DEADLY WEAPON, AGGRAVATED ASSAULT\n45           M                  THROWING OBJECT AT MOVING VEHICLE\n46           F     ASSAULT WITH DEADLY WEAPON, AGGRAVATED ASSAULT\n47           F  DEFRAUDING INNKEEPER/THEFT OF SERVICES, $400 &...\n48           F             CRIMINAL THREATS - NO WEAPON DISPLAYED\n49           M                                            ROBBERY\n50           F                                            ROBBERY\n51           M                                            ROBBERY\n52           M  VANDALISM - FELONY ($400 & OVER, ALL CHURCH VA...\n53           F                              BURGLARY FROM VEHICLE\n54           M     ASSAULT WITH DEADLY WEAPON, AGGRAVATED ASSAULT\n55           M                  INTIMATE PARTNER - SIMPLE ASSAULT\n56           F     ASSAULT WITH DEADLY WEAPON, AGGRAVATED ASSAULT\n57           M                           BATTERY - SIMPLE ASSAULT\n58           M                           BATTERY - SIMPLE ASSAULT\n59           M                                            ROBBERY\n60           M  THEFT-GRAND ($950.01 & OVER)EXCPT,GUNS,FOWL,LI...\n61           F                                            ROBBERY\n62           M                           BATTERY - SIMPLE ASSAULT\n63           M                 THEFT PLAIN - PETTY ($950 & UNDER)\n64           F                        BATTERY WITH SEXUAL CONTACT\n65           F                  INTIMATE PARTNER - SIMPLE ASSAULT\n66           M                                  ATTEMPTED ROBBERY\n67           M     ASSAULT WITH DEADLY WEAPON, AGGRAVATED ASSAULT\n68           M  VANDALISM - FELONY ($400 & OVER, ALL CHURCH VA...\n69           M                  INTIMATE PARTNER - SIMPLE ASSAULT\n70           F                           BATTERY - SIMPLE ASSAULT\n71           M                           BATTERY - SIMPLE ASSAULT\n72           F                  INTIMATE PARTNER - SIMPLE ASSAULT\n73           M                 THEFT PLAIN - PETTY ($950 & UNDER)\n74           M     ASSAULT WITH DEADLY WEAPON, AGGRAVATED ASSAULT\n75           M  DEFRAUDING INNKEEPER/THEFT OF SERVICES, $400 &...\n76           M                          OTHER MISCELLANEOUS CRIME\n77           M     ASSAULT WITH DEADLY WEAPON, AGGRAVATED ASSAULT\n78           M                          OTHER MISCELLANEOUS CRIME\n79           M     ASSAULT WITH DEADLY WEAPON, AGGRAVATED ASSAULT\n80           F                           BATTERY - SIMPLE ASSAULT\n81           F                           BATTERY - SIMPLE ASSAULT\n82           M                                            ROBBERY\n83           M                          OTHER MISCELLANEOUS CRIME\n84           M                                        TRESPASSING\n85           M                           BATTERY - SIMPLE ASSAULT\n86           M                           BATTERY - SIMPLE ASSAULT\n87           M           VANDALISM - MISDEAMEANOR ($399 OR UNDER)\n88           M                           BATTERY - SIMPLE ASSAULT\n89           F                           BATTERY - SIMPLE ASSAULT\n90           F                                           BURGLARY\n91           F                  INTIMATE PARTNER - SIMPLE ASSAULT\n94           F           SHOPLIFTING-GRAND THEFT ($950.01 & OVER)\n95           F                              BURGLARY FROM VEHICLE\n103          M                                           BURGLARY\n106          M            CHILD ABUSE (PHYSICAL) - SIMPLE ASSAULT\n107          M                                        TRESPASSING\n109          F                                  INDECENT EXPOSURE\n113          M                     CHILD NEGLECT (SEE 300 W.I.C.)\n115          F           VANDALISM - MISDEAMEANOR ($399 OR UNDER)\n116          F                           BATTERY - SIMPLE ASSAULT\n122          M                                      OTHER ASSAULT\n125          F                              BURGLARY FROM VEHICLE\n127          M                              BURGLARY FROM VEHICLE\n128          M                          OTHER MISCELLANEOUS CRIME\n129          M             CRIMINAL THREATS - NO WEAPON DISPLAYED\n135          F     ASSAULT WITH DEADLY WEAPON, AGGRAVATED ASSAULT\n136          M                 THEFT PLAIN - PETTY ($950 & UNDER)\n139          M                           BATTERY - SIMPLE ASSAULT\n141          M                           BATTERY - SIMPLE ASSAULT\n142          M     ASSAULT WITH DEADLY WEAPON, AGGRAVATED ASSAULT\n143          M           SHOPLIFTING - PETTY THEFT ($950 & UNDER)\n144          M                                            ROBBERY\n145          M                              BURGLARY FROM VEHICLE\n147          F                              BURGLARY FROM VEHICLE\n153          M  VANDALISM - FELONY ($400 & OVER, ALL CHURCH VA...\n156          M                           BATTERY - SIMPLE ASSAULT\n157          F                                        TRESPASSING\n160          M                           BATTERY - SIMPLE ASSAULT\n161          M           SHOPLIFTING - PETTY THEFT ($950 & UNDER)\n170          M                          OTHER MISCELLANEOUS CRIME\n171          M                                        TRESPASSING\n172          F                  INTIMATE PARTNER - SIMPLE ASSAULT\n173          M                                           BURGLARY\n174          M           VANDALISM - MISDEAMEANOR ($399 OR UNDER)\n175          M                          OTHER MISCELLANEOUS CRIME\n176          M                           BATTERY - SIMPLE ASSAULT\n177          F                                      THEFT, PERSON\n178          F                  INTIMATE PARTNER - SIMPLE ASSAULT\n179          M                                            ROBBERY\n180          F                                           BURGLARY\n181          M                                           BURGLARY\n183          F                  INTIMATE PARTNER - SIMPLE ASSAULT\n184          F                 THEFT PLAIN - PETTY ($950 & UNDER)\n185          M                           BATTERY - SIMPLE ASSAULT\n186          M                           BATTERY - SIMPLE ASSAULT\n187          F                  INTIMATE PARTNER - SIMPLE ASSAULT\n188          M                                         BOMB SCARE\n189          F                  INTIMATE PARTNER - SIMPLE ASSAULT\n190          M                           BATTERY - SIMPLE ASSAULT\n191          F           SHOPLIFTING - PETTY THEFT ($950 & UNDER)\n192          M                                          EXTORTION\n193          M                                            ROBBERY\n194          M                                        TRESPASSING\n195          F  THEFT-GRAND ($950.01 & OVER)EXCPT,GUNS,FOWL,LI...\n197          M                           BATTERY - SIMPLE ASSAULT\n198          F                                            ROBBERY",
      "text/html": "<div>\n<style scoped>\n    .dataframe tbody tr th:only-of-type {\n        vertical-align: middle;\n    }\n\n    .dataframe tbody tr th {\n        vertical-align: top;\n    }\n\n    .dataframe thead th {\n        text-align: right;\n    }\n</style>\n<table border=\"1\" class=\"dataframe\">\n  <thead>\n    <tr style=\"text-align: right;\">\n      <th></th>\n      <th>victim_sex</th>\n      <th>crime_code_description</th>\n    </tr>\n  </thead>\n  <tbody>\n    <tr>\n      <th>0</th>\n      <td>F</td>\n      <td>INTIMATE PARTNER - SIMPLE ASSAULT</td>\n    </tr>\n    <tr>\n      <th>4</th>\n      <td>M</td>\n      <td>VANDALISM - MISDEAMEANOR ($399 OR UNDER)</td>\n    </tr>\n    <tr>\n      <th>5</th>\n      <td>F</td>\n      <td>CRIMINAL HOMICIDE</td>\n    </tr>\n    <tr>\n      <th>9</th>\n      <td>F</td>\n      <td>EMBEZZLEMENT, GRAND THEFT ($950.01 &amp; OVER)</td>\n    </tr>\n    <tr>\n      <th>12</th>\n      <td>M</td>\n      <td>THEFT PLAIN - PETTY ($950 &amp; UNDER)</td>\n    </tr>\n    <tr>\n      <th>13</th>\n      <td>M</td>\n      <td>STALKING</td>\n    </tr>\n    <tr>\n      <th>14</th>\n      <td>M</td>\n      <td>SHOPLIFTING - PETTY THEFT ($950 &amp; UNDER)</td>\n    </tr>\n    <tr>\n      <th>15</th>\n      <td>F</td>\n      <td>INTIMATE PARTNER - SIMPLE ASSAULT</td>\n    </tr>\n    <tr>\n      <th>16</th>\n      <td>M</td>\n      <td>BATTERY - SIMPLE ASSAULT</td>\n    </tr>\n    <tr>\n      <th>17</th>\n      <td>F</td>\n      <td>INTIMATE PARTNER - SIMPLE ASSAULT</td>\n    </tr>\n    <tr>\n      <th>18</th>\n      <td>F</td>\n      <td>BATTERY - SIMPLE ASSAULT</td>\n    </tr>\n    <tr>\n      <th>19</th>\n      <td>M</td>\n      <td>EMBEZZLEMENT, PETTY THEFT ($950 &amp; UNDER)</td>\n    </tr>\n    <tr>\n      <th>20</th>\n      <td>F</td>\n      <td>INTIMATE PARTNER - SIMPLE ASSAULT</td>\n    </tr>\n    <tr>\n      <th>21</th>\n      <td>M</td>\n      <td>DOCUMENT FORGERY / STOLEN FELONY</td>\n    </tr>\n    <tr>\n      <th>22</th>\n      <td>F</td>\n      <td>INTIMATE PARTNER - SIMPLE ASSAULT</td>\n    </tr>\n    <tr>\n      <th>23</th>\n      <td>F</td>\n      <td>BATTERY - SIMPLE ASSAULT</td>\n    </tr>\n    <tr>\n      <th>24</th>\n      <td>F</td>\n      <td>BATTERY - SIMPLE ASSAULT</td>\n    </tr>\n    <tr>\n      <th>25</th>\n      <td>F</td>\n      <td>INTIMATE PARTNER - SIMPLE ASSAULT</td>\n    </tr>\n    <tr>\n      <th>27</th>\n      <td>M</td>\n      <td>BIKE - STOLEN</td>\n    </tr>\n    <tr>\n      <th>28</th>\n      <td>M</td>\n      <td>ROBBERY</td>\n    </tr>\n    <tr>\n      <th>29</th>\n      <td>F</td>\n      <td>INTIMATE PARTNER - SIMPLE ASSAULT</td>\n    </tr>\n    <tr>\n      <th>30</th>\n      <td>M</td>\n      <td>SODOMY/SEXUAL CONTACT B/W PENIS OF ONE PERS TO...</td>\n    </tr>\n    <tr>\n      <th>31</th>\n      <td>M</td>\n      <td>INTIMATE PARTNER - SIMPLE ASSAULT</td>\n    </tr>\n    <tr>\n      <th>32</th>\n      <td>F</td>\n      <td>INTIMATE PARTNER - SIMPLE ASSAULT</td>\n    </tr>\n    <tr>\n      <th>33</th>\n      <td>F</td>\n      <td>ATTEMPTED ROBBERY</td>\n    </tr>\n    <tr>\n      <th>34</th>\n      <td>F</td>\n      <td>INTIMATE PARTNER - SIMPLE ASSAULT</td>\n    </tr>\n    <tr>\n      <th>35</th>\n      <td>F</td>\n      <td>VANDALISM - MISDEAMEANOR ($399 OR UNDER)</td>\n    </tr>\n    <tr>\n      <th>36</th>\n      <td>M</td>\n      <td>RESISTING ARREST</td>\n    </tr>\n    <tr>\n      <th>37</th>\n      <td>F</td>\n      <td>TRESPASSING</td>\n    </tr>\n    <tr>\n      <th>38</th>\n      <td>M</td>\n      <td>THEFT-GRAND ($950.01 &amp; OVER)EXCPT,GUNS,FOWL,LI...</td>\n    </tr>\n    <tr>\n      <th>39</th>\n      <td>F</td>\n      <td>ROBBERY</td>\n    </tr>\n    <tr>\n      <th>41</th>\n      <td>M</td>\n      <td>COUNTERFEIT</td>\n    </tr>\n    <tr>\n      <th>43</th>\n      <td>M</td>\n      <td>BATTERY - SIMPLE ASSAULT</td>\n    </tr>\n    <tr>\n      <th>44</th>\n      <td>M</td>\n      <td>ASSAULT WITH DEADLY WEAPON, AGGRAVATED ASSAULT</td>\n    </tr>\n    <tr>\n      <th>45</th>\n      <td>M</td>\n      <td>THROWING OBJECT AT MOVING VEHICLE</td>\n    </tr>\n    <tr>\n      <th>46</th>\n      <td>F</td>\n      <td>ASSAULT WITH DEADLY WEAPON, AGGRAVATED ASSAULT</td>\n    </tr>\n    <tr>\n      <th>47</th>\n      <td>F</td>\n      <td>DEFRAUDING INNKEEPER/THEFT OF SERVICES, $400 &amp;...</td>\n    </tr>\n    <tr>\n      <th>48</th>\n      <td>F</td>\n      <td>CRIMINAL THREATS - NO WEAPON DISPLAYED</td>\n    </tr>\n    <tr>\n      <th>49</th>\n      <td>M</td>\n      <td>ROBBERY</td>\n    </tr>\n    <tr>\n      <th>50</th>\n      <td>F</td>\n      <td>ROBBERY</td>\n    </tr>\n    <tr>\n      <th>51</th>\n      <td>M</td>\n      <td>ROBBERY</td>\n    </tr>\n    <tr>\n      <th>52</th>\n      <td>M</td>\n      <td>VANDALISM - FELONY ($400 &amp; OVER, ALL CHURCH VA...</td>\n    </tr>\n    <tr>\n      <th>53</th>\n      <td>F</td>\n      <td>BURGLARY FROM VEHICLE</td>\n    </tr>\n    <tr>\n      <th>54</th>\n      <td>M</td>\n      <td>ASSAULT WITH DEADLY WEAPON, AGGRAVATED ASSAULT</td>\n    </tr>\n    <tr>\n      <th>55</th>\n      <td>M</td>\n      <td>INTIMATE PARTNER - SIMPLE ASSAULT</td>\n    </tr>\n    <tr>\n      <th>56</th>\n      <td>F</td>\n      <td>ASSAULT WITH DEADLY WEAPON, AGGRAVATED ASSAULT</td>\n    </tr>\n    <tr>\n      <th>57</th>\n      <td>M</td>\n      <td>BATTERY - SIMPLE ASSAULT</td>\n    </tr>\n    <tr>\n      <th>58</th>\n      <td>M</td>\n      <td>BATTERY - SIMPLE ASSAULT</td>\n    </tr>\n    <tr>\n      <th>59</th>\n      <td>M</td>\n      <td>ROBBERY</td>\n    </tr>\n    <tr>\n      <th>60</th>\n      <td>M</td>\n      <td>THEFT-GRAND ($950.01 &amp; OVER)EXCPT,GUNS,FOWL,LI...</td>\n    </tr>\n    <tr>\n      <th>61</th>\n      <td>F</td>\n      <td>ROBBERY</td>\n    </tr>\n    <tr>\n      <th>62</th>\n      <td>M</td>\n      <td>BATTERY - SIMPLE ASSAULT</td>\n    </tr>\n    <tr>\n      <th>63</th>\n      <td>M</td>\n      <td>THEFT PLAIN - PETTY ($950 &amp; UNDER)</td>\n    </tr>\n    <tr>\n      <th>64</th>\n      <td>F</td>\n      <td>BATTERY WITH SEXUAL CONTACT</td>\n    </tr>\n    <tr>\n      <th>65</th>\n      <td>F</td>\n      <td>INTIMATE PARTNER - SIMPLE ASSAULT</td>\n    </tr>\n    <tr>\n      <th>66</th>\n      <td>M</td>\n      <td>ATTEMPTED ROBBERY</td>\n    </tr>\n    <tr>\n      <th>67</th>\n      <td>M</td>\n      <td>ASSAULT WITH DEADLY WEAPON, AGGRAVATED ASSAULT</td>\n    </tr>\n    <tr>\n      <th>68</th>\n      <td>M</td>\n      <td>VANDALISM - FELONY ($400 &amp; OVER, ALL CHURCH VA...</td>\n    </tr>\n    <tr>\n      <th>69</th>\n      <td>M</td>\n      <td>INTIMATE PARTNER - SIMPLE ASSAULT</td>\n    </tr>\n    <tr>\n      <th>70</th>\n      <td>F</td>\n      <td>BATTERY - SIMPLE ASSAULT</td>\n    </tr>\n    <tr>\n      <th>71</th>\n      <td>M</td>\n      <td>BATTERY - SIMPLE ASSAULT</td>\n    </tr>\n    <tr>\n      <th>72</th>\n      <td>F</td>\n      <td>INTIMATE PARTNER - SIMPLE ASSAULT</td>\n    </tr>\n    <tr>\n      <th>73</th>\n      <td>M</td>\n      <td>THEFT PLAIN - PETTY ($950 &amp; UNDER)</td>\n    </tr>\n    <tr>\n      <th>74</th>\n      <td>M</td>\n      <td>ASSAULT WITH DEADLY WEAPON, AGGRAVATED ASSAULT</td>\n    </tr>\n    <tr>\n      <th>75</th>\n      <td>M</td>\n      <td>DEFRAUDING INNKEEPER/THEFT OF SERVICES, $400 &amp;...</td>\n    </tr>\n    <tr>\n      <th>76</th>\n      <td>M</td>\n      <td>OTHER MISCELLANEOUS CRIME</td>\n    </tr>\n    <tr>\n      <th>77</th>\n      <td>M</td>\n      <td>ASSAULT WITH DEADLY WEAPON, AGGRAVATED ASSAULT</td>\n    </tr>\n    <tr>\n      <th>78</th>\n      <td>M</td>\n      <td>OTHER MISCELLANEOUS CRIME</td>\n    </tr>\n    <tr>\n      <th>79</th>\n      <td>M</td>\n      <td>ASSAULT WITH DEADLY WEAPON, AGGRAVATED ASSAULT</td>\n    </tr>\n    <tr>\n      <th>80</th>\n      <td>F</td>\n      <td>BATTERY - SIMPLE ASSAULT</td>\n    </tr>\n    <tr>\n      <th>81</th>\n      <td>F</td>\n      <td>BATTERY - SIMPLE ASSAULT</td>\n    </tr>\n    <tr>\n      <th>82</th>\n      <td>M</td>\n      <td>ROBBERY</td>\n    </tr>\n    <tr>\n      <th>83</th>\n      <td>M</td>\n      <td>OTHER MISCELLANEOUS CRIME</td>\n    </tr>\n    <tr>\n      <th>84</th>\n      <td>M</td>\n      <td>TRESPASSING</td>\n    </tr>\n    <tr>\n      <th>85</th>\n      <td>M</td>\n      <td>BATTERY - SIMPLE ASSAULT</td>\n    </tr>\n    <tr>\n      <th>86</th>\n      <td>M</td>\n      <td>BATTERY - SIMPLE ASSAULT</td>\n    </tr>\n    <tr>\n      <th>87</th>\n      <td>M</td>\n      <td>VANDALISM - MISDEAMEANOR ($399 OR UNDER)</td>\n    </tr>\n    <tr>\n      <th>88</th>\n      <td>M</td>\n      <td>BATTERY - SIMPLE ASSAULT</td>\n    </tr>\n    <tr>\n      <th>89</th>\n      <td>F</td>\n      <td>BATTERY - SIMPLE ASSAULT</td>\n    </tr>\n    <tr>\n      <th>90</th>\n      <td>F</td>\n      <td>BURGLARY</td>\n    </tr>\n    <tr>\n      <th>91</th>\n      <td>F</td>\n      <td>INTIMATE PARTNER - SIMPLE ASSAULT</td>\n    </tr>\n    <tr>\n      <th>94</th>\n      <td>F</td>\n      <td>SHOPLIFTING-GRAND THEFT ($950.01 &amp; OVER)</td>\n    </tr>\n    <tr>\n      <th>95</th>\n      <td>F</td>\n      <td>BURGLARY FROM VEHICLE</td>\n    </tr>\n    <tr>\n      <th>103</th>\n      <td>M</td>\n      <td>BURGLARY</td>\n    </tr>\n    <tr>\n      <th>106</th>\n      <td>M</td>\n      <td>CHILD ABUSE (PHYSICAL) - SIMPLE ASSAULT</td>\n    </tr>\n    <tr>\n      <th>107</th>\n      <td>M</td>\n      <td>TRESPASSING</td>\n    </tr>\n    <tr>\n      <th>109</th>\n      <td>F</td>\n      <td>INDECENT EXPOSURE</td>\n    </tr>\n    <tr>\n      <th>113</th>\n      <td>M</td>\n      <td>CHILD NEGLECT (SEE 300 W.I.C.)</td>\n    </tr>\n    <tr>\n      <th>115</th>\n      <td>F</td>\n      <td>VANDALISM - MISDEAMEANOR ($399 OR UNDER)</td>\n    </tr>\n    <tr>\n      <th>116</th>\n      <td>F</td>\n      <td>BATTERY - SIMPLE ASSAULT</td>\n    </tr>\n    <tr>\n      <th>122</th>\n      <td>M</td>\n      <td>OTHER ASSAULT</td>\n    </tr>\n    <tr>\n      <th>125</th>\n      <td>F</td>\n      <td>BURGLARY FROM VEHICLE</td>\n    </tr>\n    <tr>\n      <th>127</th>\n      <td>M</td>\n      <td>BURGLARY FROM VEHICLE</td>\n    </tr>\n    <tr>\n      <th>128</th>\n      <td>M</td>\n      <td>OTHER MISCELLANEOUS CRIME</td>\n    </tr>\n    <tr>\n      <th>129</th>\n      <td>M</td>\n      <td>CRIMINAL THREATS - NO WEAPON DISPLAYED</td>\n    </tr>\n    <tr>\n      <th>135</th>\n      <td>F</td>\n      <td>ASSAULT WITH DEADLY WEAPON, AGGRAVATED ASSAULT</td>\n    </tr>\n    <tr>\n      <th>136</th>\n      <td>M</td>\n      <td>THEFT PLAIN - PETTY ($950 &amp; UNDER)</td>\n    </tr>\n    <tr>\n      <th>139</th>\n      <td>M</td>\n      <td>BATTERY - SIMPLE ASSAULT</td>\n    </tr>\n    <tr>\n      <th>141</th>\n      <td>M</td>\n      <td>BATTERY - SIMPLE ASSAULT</td>\n    </tr>\n    <tr>\n      <th>142</th>\n      <td>M</td>\n      <td>ASSAULT WITH DEADLY WEAPON, AGGRAVATED ASSAULT</td>\n    </tr>\n    <tr>\n      <th>143</th>\n      <td>M</td>\n      <td>SHOPLIFTING - PETTY THEFT ($950 &amp; UNDER)</td>\n    </tr>\n    <tr>\n      <th>144</th>\n      <td>M</td>\n      <td>ROBBERY</td>\n    </tr>\n    <tr>\n      <th>145</th>\n      <td>M</td>\n      <td>BURGLARY FROM VEHICLE</td>\n    </tr>\n    <tr>\n      <th>147</th>\n      <td>F</td>\n      <td>BURGLARY FROM VEHICLE</td>\n    </tr>\n    <tr>\n      <th>153</th>\n      <td>M</td>\n      <td>VANDALISM - FELONY ($400 &amp; OVER, ALL CHURCH VA...</td>\n    </tr>\n    <tr>\n      <th>156</th>\n      <td>M</td>\n      <td>BATTERY - SIMPLE ASSAULT</td>\n    </tr>\n    <tr>\n      <th>157</th>\n      <td>F</td>\n      <td>TRESPASSING</td>\n    </tr>\n    <tr>\n      <th>160</th>\n      <td>M</td>\n      <td>BATTERY - SIMPLE ASSAULT</td>\n    </tr>\n    <tr>\n      <th>161</th>\n      <td>M</td>\n      <td>SHOPLIFTING - PETTY THEFT ($950 &amp; UNDER)</td>\n    </tr>\n    <tr>\n      <th>170</th>\n      <td>M</td>\n      <td>OTHER MISCELLANEOUS CRIME</td>\n    </tr>\n    <tr>\n      <th>171</th>\n      <td>M</td>\n      <td>TRESPASSING</td>\n    </tr>\n    <tr>\n      <th>172</th>\n      <td>F</td>\n      <td>INTIMATE PARTNER - SIMPLE ASSAULT</td>\n    </tr>\n    <tr>\n      <th>173</th>\n      <td>M</td>\n      <td>BURGLARY</td>\n    </tr>\n    <tr>\n      <th>174</th>\n      <td>M</td>\n      <td>VANDALISM - MISDEAMEANOR ($399 OR UNDER)</td>\n    </tr>\n    <tr>\n      <th>175</th>\n      <td>M</td>\n      <td>OTHER MISCELLANEOUS CRIME</td>\n    </tr>\n    <tr>\n      <th>176</th>\n      <td>M</td>\n      <td>BATTERY - SIMPLE ASSAULT</td>\n    </tr>\n    <tr>\n      <th>177</th>\n      <td>F</td>\n      <td>THEFT, PERSON</td>\n    </tr>\n    <tr>\n      <th>178</th>\n      <td>F</td>\n      <td>INTIMATE PARTNER - SIMPLE ASSAULT</td>\n    </tr>\n    <tr>\n      <th>179</th>\n      <td>M</td>\n      <td>ROBBERY</td>\n    </tr>\n    <tr>\n      <th>180</th>\n      <td>F</td>\n      <td>BURGLARY</td>\n    </tr>\n    <tr>\n      <th>181</th>\n      <td>M</td>\n      <td>BURGLARY</td>\n    </tr>\n    <tr>\n      <th>183</th>\n      <td>F</td>\n      <td>INTIMATE PARTNER - SIMPLE ASSAULT</td>\n    </tr>\n    <tr>\n      <th>184</th>\n      <td>F</td>\n      <td>THEFT PLAIN - PETTY ($950 &amp; UNDER)</td>\n    </tr>\n    <tr>\n      <th>185</th>\n      <td>M</td>\n      <td>BATTERY - SIMPLE ASSAULT</td>\n    </tr>\n    <tr>\n      <th>186</th>\n      <td>M</td>\n      <td>BATTERY - SIMPLE ASSAULT</td>\n    </tr>\n    <tr>\n      <th>187</th>\n      <td>F</td>\n      <td>INTIMATE PARTNER - SIMPLE ASSAULT</td>\n    </tr>\n    <tr>\n      <th>188</th>\n      <td>M</td>\n      <td>BOMB SCARE</td>\n    </tr>\n    <tr>\n      <th>189</th>\n      <td>F</td>\n      <td>INTIMATE PARTNER - SIMPLE ASSAULT</td>\n    </tr>\n    <tr>\n      <th>190</th>\n      <td>M</td>\n      <td>BATTERY - SIMPLE ASSAULT</td>\n    </tr>\n    <tr>\n      <th>191</th>\n      <td>F</td>\n      <td>SHOPLIFTING - PETTY THEFT ($950 &amp; UNDER)</td>\n    </tr>\n    <tr>\n      <th>192</th>\n      <td>M</td>\n      <td>EXTORTION</td>\n    </tr>\n    <tr>\n      <th>193</th>\n      <td>M</td>\n      <td>ROBBERY</td>\n    </tr>\n    <tr>\n      <th>194</th>\n      <td>M</td>\n      <td>TRESPASSING</td>\n    </tr>\n    <tr>\n      <th>195</th>\n      <td>F</td>\n      <td>THEFT-GRAND ($950.01 &amp; OVER)EXCPT,GUNS,FOWL,LI...</td>\n    </tr>\n    <tr>\n      <th>197</th>\n      <td>M</td>\n      <td>BATTERY - SIMPLE ASSAULT</td>\n    </tr>\n    <tr>\n      <th>198</th>\n      <td>F</td>\n      <td>ROBBERY</td>\n    </tr>\n  </tbody>\n</table>\n</div>"
     },
     "execution_count": 147,
     "metadata": {},
     "output_type": "execute_result"
    }
   ],
   "source": [
    "df2 = crime[['victim_sex', 'crime_code_description']].copy()\n",
    "df2.dropna(inplace=True)\n",
    "df2"
   ],
   "metadata": {
    "collapsed": false,
    "ExecuteTime": {
     "end_time": "2023-12-16T01:20:45.243488800Z",
     "start_time": "2023-12-16T01:20:45.226462300Z"
    }
   },
   "id": "1a335d6b9f1ac727"
  },
  {
   "cell_type": "markdown",
   "source": [
    "Создаем новый датафрейм, в котором будут указаны пол жертвы, а также тип преступления, совершенное против нее"
   ],
   "metadata": {
    "collapsed": false
   },
   "id": "f410f62e82e1a22f"
  },
  {
   "cell_type": "code",
   "execution_count": 148,
   "outputs": [
    {
     "data": {
      "text/plain": "    victim_sex                             crime_code_description\n0            F                  INTIMATE PARTNER - SIMPLE ASSAULT\n94           F           SHOPLIFTING-GRAND THEFT ($950.01 & OVER)\n91           F                  INTIMATE PARTNER - SIMPLE ASSAULT\n90           F                                           BURGLARY\n89           F                           BATTERY - SIMPLE ASSAULT\n81           F                           BATTERY - SIMPLE ASSAULT\n80           F                           BATTERY - SIMPLE ASSAULT\n95           F                              BURGLARY FROM VEHICLE\n72           F                  INTIMATE PARTNER - SIMPLE ASSAULT\n65           F                  INTIMATE PARTNER - SIMPLE ASSAULT\n64           F                        BATTERY WITH SEXUAL CONTACT\n61           F                                            ROBBERY\n56           F     ASSAULT WITH DEADLY WEAPON, AGGRAVATED ASSAULT\n53           F                              BURGLARY FROM VEHICLE\n50           F                                            ROBBERY\n70           F                           BATTERY - SIMPLE ASSAULT\n48           F             CRIMINAL THREATS - NO WEAPON DISPLAYED\n109          F                                  INDECENT EXPOSURE\n116          F                           BATTERY - SIMPLE ASSAULT\n195          F  THEFT-GRAND ($950.01 & OVER)EXCPT,GUNS,FOWL,LI...\n191          F           SHOPLIFTING - PETTY THEFT ($950 & UNDER)\n189          F                  INTIMATE PARTNER - SIMPLE ASSAULT\n187          F                  INTIMATE PARTNER - SIMPLE ASSAULT\n184          F                 THEFT PLAIN - PETTY ($950 & UNDER)\n183          F                  INTIMATE PARTNER - SIMPLE ASSAULT\n115          F           VANDALISM - MISDEAMEANOR ($399 OR UNDER)\n180          F                                           BURGLARY\n177          F                                      THEFT, PERSON\n172          F                  INTIMATE PARTNER - SIMPLE ASSAULT\n157          F                                        TRESPASSING\n147          F                              BURGLARY FROM VEHICLE\n135          F     ASSAULT WITH DEADLY WEAPON, AGGRAVATED ASSAULT\n125          F                              BURGLARY FROM VEHICLE\n178          F                  INTIMATE PARTNER - SIMPLE ASSAULT\n47           F  DEFRAUDING INNKEEPER/THEFT OF SERVICES, $400 &...\n198          F                                            ROBBERY\n18           F                           BATTERY - SIMPLE ASSAULT\n24           F                           BATTERY - SIMPLE ASSAULT\n25           F                  INTIMATE PARTNER - SIMPLE ASSAULT\n46           F     ASSAULT WITH DEADLY WEAPON, AGGRAVATED ASSAULT\n29           F                  INTIMATE PARTNER - SIMPLE ASSAULT\n20           F                  INTIMATE PARTNER - SIMPLE ASSAULT\n32           F                  INTIMATE PARTNER - SIMPLE ASSAULT\n33           F                                  ATTEMPTED ROBBERY\n23           F                           BATTERY - SIMPLE ASSAULT\n34           F                  INTIMATE PARTNER - SIMPLE ASSAULT\n35           F           VANDALISM - MISDEAMEANOR ($399 OR UNDER)\n17           F                  INTIMATE PARTNER - SIMPLE ASSAULT\n37           F                                        TRESPASSING\n15           F                  INTIMATE PARTNER - SIMPLE ASSAULT\n22           F                  INTIMATE PARTNER - SIMPLE ASSAULT\n5            F                                  CRIMINAL HOMICIDE\n39           F                                            ROBBERY\n9            F         EMBEZZLEMENT, GRAND THEFT ($950.01 & OVER)\n181          M                                           BURGLARY\n145          M                              BURGLARY FROM VEHICLE\n144          M                                            ROBBERY\n143          M           SHOPLIFTING - PETTY THEFT ($950 & UNDER)\n142          M     ASSAULT WITH DEADLY WEAPON, AGGRAVATED ASSAULT\n141          M                           BATTERY - SIMPLE ASSAULT\n139          M                           BATTERY - SIMPLE ASSAULT\n192          M                                          EXTORTION\n21           M                   DOCUMENT FORGERY / STOLEN FELONY\n129          M             CRIMINAL THREATS - NO WEAPON DISPLAYED\n128          M                          OTHER MISCELLANEOUS CRIME\n193          M                                            ROBBERY\n194          M                                        TRESPASSING\n127          M                              BURGLARY FROM VEHICLE\n4            M           VANDALISM - MISDEAMEANOR ($399 OR UNDER)\n136          M                 THEFT PLAIN - PETTY ($950 & UNDER)\n153          M  VANDALISM - FELONY ($400 & OVER, ALL CHURCH VA...\n190          M                           BATTERY - SIMPLE ASSAULT\n14           M           SHOPLIFTING - PETTY THEFT ($950 & UNDER)\n13           M                                           STALKING\n185          M                           BATTERY - SIMPLE ASSAULT\n179          M                                            ROBBERY\n16           M                           BATTERY - SIMPLE ASSAULT\n186          M                           BATTERY - SIMPLE ASSAULT\n176          M                           BATTERY - SIMPLE ASSAULT\n175          M                          OTHER MISCELLANEOUS CRIME\n156          M                           BATTERY - SIMPLE ASSAULT\n12           M                 THEFT PLAIN - PETTY ($950 & UNDER)\n173          M                                           BURGLARY\n188          M                                         BOMB SCARE\n171          M                                        TRESPASSING\n170          M                          OTHER MISCELLANEOUS CRIME\n161          M           SHOPLIFTING - PETTY THEFT ($950 & UNDER)\n160          M                           BATTERY - SIMPLE ASSAULT\n19           M           EMBEZZLEMENT, PETTY THEFT ($950 & UNDER)\n174          M           VANDALISM - MISDEAMEANOR ($399 OR UNDER)\n45           M                  THROWING OBJECT AT MOVING VEHICLE\n107          M                                        TRESPASSING\n113          M                     CHILD NEGLECT (SEE 300 W.I.C.)\n67           M     ASSAULT WITH DEADLY WEAPON, AGGRAVATED ASSAULT\n66           M                                  ATTEMPTED ROBBERY\n36           M                                   RESISTING ARREST\n63           M                 THEFT PLAIN - PETTY ($950 & UNDER)\n62           M                           BATTERY - SIMPLE ASSAULT\n38           M  THEFT-GRAND ($950.01 & OVER)EXCPT,GUNS,FOWL,LI...\n60           M  THEFT-GRAND ($950.01 & OVER)EXCPT,GUNS,FOWL,LI...\n59           M                                            ROBBERY\n68           M  VANDALISM - FELONY ($400 & OVER, ALL CHURCH VA...\n58           M                           BATTERY - SIMPLE ASSAULT\n55           M                  INTIMATE PARTNER - SIMPLE ASSAULT\n54           M     ASSAULT WITH DEADLY WEAPON, AGGRAVATED ASSAULT\n41           M                                        COUNTERFEIT\n52           M  VANDALISM - FELONY ($400 & OVER, ALL CHURCH VA...\n51           M                                            ROBBERY\n43           M                           BATTERY - SIMPLE ASSAULT\n49           M                                            ROBBERY\n44           M     ASSAULT WITH DEADLY WEAPON, AGGRAVATED ASSAULT\n57           M                           BATTERY - SIMPLE ASSAULT\n69           M                  INTIMATE PARTNER - SIMPLE ASSAULT\n71           M                           BATTERY - SIMPLE ASSAULT\n73           M                 THEFT PLAIN - PETTY ($950 & UNDER)\n106          M            CHILD ABUSE (PHYSICAL) - SIMPLE ASSAULT\n103          M                                           BURGLARY\n27           M                                      BIKE - STOLEN\n28           M                                            ROBBERY\n30           M  SODOMY/SEXUAL CONTACT B/W PENIS OF ONE PERS TO...\n31           M                  INTIMATE PARTNER - SIMPLE ASSAULT\n88           M                           BATTERY - SIMPLE ASSAULT\n87           M           VANDALISM - MISDEAMEANOR ($399 OR UNDER)\n86           M                           BATTERY - SIMPLE ASSAULT\n85           M                           BATTERY - SIMPLE ASSAULT\n84           M                                        TRESPASSING\n83           M                          OTHER MISCELLANEOUS CRIME\n82           M                                            ROBBERY\n79           M     ASSAULT WITH DEADLY WEAPON, AGGRAVATED ASSAULT\n197          M                           BATTERY - SIMPLE ASSAULT\n77           M     ASSAULT WITH DEADLY WEAPON, AGGRAVATED ASSAULT\n76           M                          OTHER MISCELLANEOUS CRIME\n75           M  DEFRAUDING INNKEEPER/THEFT OF SERVICES, $400 &...\n74           M     ASSAULT WITH DEADLY WEAPON, AGGRAVATED ASSAULT\n122          M                                      OTHER ASSAULT\n78           M                          OTHER MISCELLANEOUS CRIME",
      "text/html": "<div>\n<style scoped>\n    .dataframe tbody tr th:only-of-type {\n        vertical-align: middle;\n    }\n\n    .dataframe tbody tr th {\n        vertical-align: top;\n    }\n\n    .dataframe thead th {\n        text-align: right;\n    }\n</style>\n<table border=\"1\" class=\"dataframe\">\n  <thead>\n    <tr style=\"text-align: right;\">\n      <th></th>\n      <th>victim_sex</th>\n      <th>crime_code_description</th>\n    </tr>\n  </thead>\n  <tbody>\n    <tr>\n      <th>0</th>\n      <td>F</td>\n      <td>INTIMATE PARTNER - SIMPLE ASSAULT</td>\n    </tr>\n    <tr>\n      <th>94</th>\n      <td>F</td>\n      <td>SHOPLIFTING-GRAND THEFT ($950.01 &amp; OVER)</td>\n    </tr>\n    <tr>\n      <th>91</th>\n      <td>F</td>\n      <td>INTIMATE PARTNER - SIMPLE ASSAULT</td>\n    </tr>\n    <tr>\n      <th>90</th>\n      <td>F</td>\n      <td>BURGLARY</td>\n    </tr>\n    <tr>\n      <th>89</th>\n      <td>F</td>\n      <td>BATTERY - SIMPLE ASSAULT</td>\n    </tr>\n    <tr>\n      <th>81</th>\n      <td>F</td>\n      <td>BATTERY - SIMPLE ASSAULT</td>\n    </tr>\n    <tr>\n      <th>80</th>\n      <td>F</td>\n      <td>BATTERY - SIMPLE ASSAULT</td>\n    </tr>\n    <tr>\n      <th>95</th>\n      <td>F</td>\n      <td>BURGLARY FROM VEHICLE</td>\n    </tr>\n    <tr>\n      <th>72</th>\n      <td>F</td>\n      <td>INTIMATE PARTNER - SIMPLE ASSAULT</td>\n    </tr>\n    <tr>\n      <th>65</th>\n      <td>F</td>\n      <td>INTIMATE PARTNER - SIMPLE ASSAULT</td>\n    </tr>\n    <tr>\n      <th>64</th>\n      <td>F</td>\n      <td>BATTERY WITH SEXUAL CONTACT</td>\n    </tr>\n    <tr>\n      <th>61</th>\n      <td>F</td>\n      <td>ROBBERY</td>\n    </tr>\n    <tr>\n      <th>56</th>\n      <td>F</td>\n      <td>ASSAULT WITH DEADLY WEAPON, AGGRAVATED ASSAULT</td>\n    </tr>\n    <tr>\n      <th>53</th>\n      <td>F</td>\n      <td>BURGLARY FROM VEHICLE</td>\n    </tr>\n    <tr>\n      <th>50</th>\n      <td>F</td>\n      <td>ROBBERY</td>\n    </tr>\n    <tr>\n      <th>70</th>\n      <td>F</td>\n      <td>BATTERY - SIMPLE ASSAULT</td>\n    </tr>\n    <tr>\n      <th>48</th>\n      <td>F</td>\n      <td>CRIMINAL THREATS - NO WEAPON DISPLAYED</td>\n    </tr>\n    <tr>\n      <th>109</th>\n      <td>F</td>\n      <td>INDECENT EXPOSURE</td>\n    </tr>\n    <tr>\n      <th>116</th>\n      <td>F</td>\n      <td>BATTERY - SIMPLE ASSAULT</td>\n    </tr>\n    <tr>\n      <th>195</th>\n      <td>F</td>\n      <td>THEFT-GRAND ($950.01 &amp; OVER)EXCPT,GUNS,FOWL,LI...</td>\n    </tr>\n    <tr>\n      <th>191</th>\n      <td>F</td>\n      <td>SHOPLIFTING - PETTY THEFT ($950 &amp; UNDER)</td>\n    </tr>\n    <tr>\n      <th>189</th>\n      <td>F</td>\n      <td>INTIMATE PARTNER - SIMPLE ASSAULT</td>\n    </tr>\n    <tr>\n      <th>187</th>\n      <td>F</td>\n      <td>INTIMATE PARTNER - SIMPLE ASSAULT</td>\n    </tr>\n    <tr>\n      <th>184</th>\n      <td>F</td>\n      <td>THEFT PLAIN - PETTY ($950 &amp; UNDER)</td>\n    </tr>\n    <tr>\n      <th>183</th>\n      <td>F</td>\n      <td>INTIMATE PARTNER - SIMPLE ASSAULT</td>\n    </tr>\n    <tr>\n      <th>115</th>\n      <td>F</td>\n      <td>VANDALISM - MISDEAMEANOR ($399 OR UNDER)</td>\n    </tr>\n    <tr>\n      <th>180</th>\n      <td>F</td>\n      <td>BURGLARY</td>\n    </tr>\n    <tr>\n      <th>177</th>\n      <td>F</td>\n      <td>THEFT, PERSON</td>\n    </tr>\n    <tr>\n      <th>172</th>\n      <td>F</td>\n      <td>INTIMATE PARTNER - SIMPLE ASSAULT</td>\n    </tr>\n    <tr>\n      <th>157</th>\n      <td>F</td>\n      <td>TRESPASSING</td>\n    </tr>\n    <tr>\n      <th>147</th>\n      <td>F</td>\n      <td>BURGLARY FROM VEHICLE</td>\n    </tr>\n    <tr>\n      <th>135</th>\n      <td>F</td>\n      <td>ASSAULT WITH DEADLY WEAPON, AGGRAVATED ASSAULT</td>\n    </tr>\n    <tr>\n      <th>125</th>\n      <td>F</td>\n      <td>BURGLARY FROM VEHICLE</td>\n    </tr>\n    <tr>\n      <th>178</th>\n      <td>F</td>\n      <td>INTIMATE PARTNER - SIMPLE ASSAULT</td>\n    </tr>\n    <tr>\n      <th>47</th>\n      <td>F</td>\n      <td>DEFRAUDING INNKEEPER/THEFT OF SERVICES, $400 &amp;...</td>\n    </tr>\n    <tr>\n      <th>198</th>\n      <td>F</td>\n      <td>ROBBERY</td>\n    </tr>\n    <tr>\n      <th>18</th>\n      <td>F</td>\n      <td>BATTERY - SIMPLE ASSAULT</td>\n    </tr>\n    <tr>\n      <th>24</th>\n      <td>F</td>\n      <td>BATTERY - SIMPLE ASSAULT</td>\n    </tr>\n    <tr>\n      <th>25</th>\n      <td>F</td>\n      <td>INTIMATE PARTNER - SIMPLE ASSAULT</td>\n    </tr>\n    <tr>\n      <th>46</th>\n      <td>F</td>\n      <td>ASSAULT WITH DEADLY WEAPON, AGGRAVATED ASSAULT</td>\n    </tr>\n    <tr>\n      <th>29</th>\n      <td>F</td>\n      <td>INTIMATE PARTNER - SIMPLE ASSAULT</td>\n    </tr>\n    <tr>\n      <th>20</th>\n      <td>F</td>\n      <td>INTIMATE PARTNER - SIMPLE ASSAULT</td>\n    </tr>\n    <tr>\n      <th>32</th>\n      <td>F</td>\n      <td>INTIMATE PARTNER - SIMPLE ASSAULT</td>\n    </tr>\n    <tr>\n      <th>33</th>\n      <td>F</td>\n      <td>ATTEMPTED ROBBERY</td>\n    </tr>\n    <tr>\n      <th>23</th>\n      <td>F</td>\n      <td>BATTERY - SIMPLE ASSAULT</td>\n    </tr>\n    <tr>\n      <th>34</th>\n      <td>F</td>\n      <td>INTIMATE PARTNER - SIMPLE ASSAULT</td>\n    </tr>\n    <tr>\n      <th>35</th>\n      <td>F</td>\n      <td>VANDALISM - MISDEAMEANOR ($399 OR UNDER)</td>\n    </tr>\n    <tr>\n      <th>17</th>\n      <td>F</td>\n      <td>INTIMATE PARTNER - SIMPLE ASSAULT</td>\n    </tr>\n    <tr>\n      <th>37</th>\n      <td>F</td>\n      <td>TRESPASSING</td>\n    </tr>\n    <tr>\n      <th>15</th>\n      <td>F</td>\n      <td>INTIMATE PARTNER - SIMPLE ASSAULT</td>\n    </tr>\n    <tr>\n      <th>22</th>\n      <td>F</td>\n      <td>INTIMATE PARTNER - SIMPLE ASSAULT</td>\n    </tr>\n    <tr>\n      <th>5</th>\n      <td>F</td>\n      <td>CRIMINAL HOMICIDE</td>\n    </tr>\n    <tr>\n      <th>39</th>\n      <td>F</td>\n      <td>ROBBERY</td>\n    </tr>\n    <tr>\n      <th>9</th>\n      <td>F</td>\n      <td>EMBEZZLEMENT, GRAND THEFT ($950.01 &amp; OVER)</td>\n    </tr>\n    <tr>\n      <th>181</th>\n      <td>M</td>\n      <td>BURGLARY</td>\n    </tr>\n    <tr>\n      <th>145</th>\n      <td>M</td>\n      <td>BURGLARY FROM VEHICLE</td>\n    </tr>\n    <tr>\n      <th>144</th>\n      <td>M</td>\n      <td>ROBBERY</td>\n    </tr>\n    <tr>\n      <th>143</th>\n      <td>M</td>\n      <td>SHOPLIFTING - PETTY THEFT ($950 &amp; UNDER)</td>\n    </tr>\n    <tr>\n      <th>142</th>\n      <td>M</td>\n      <td>ASSAULT WITH DEADLY WEAPON, AGGRAVATED ASSAULT</td>\n    </tr>\n    <tr>\n      <th>141</th>\n      <td>M</td>\n      <td>BATTERY - SIMPLE ASSAULT</td>\n    </tr>\n    <tr>\n      <th>139</th>\n      <td>M</td>\n      <td>BATTERY - SIMPLE ASSAULT</td>\n    </tr>\n    <tr>\n      <th>192</th>\n      <td>M</td>\n      <td>EXTORTION</td>\n    </tr>\n    <tr>\n      <th>21</th>\n      <td>M</td>\n      <td>DOCUMENT FORGERY / STOLEN FELONY</td>\n    </tr>\n    <tr>\n      <th>129</th>\n      <td>M</td>\n      <td>CRIMINAL THREATS - NO WEAPON DISPLAYED</td>\n    </tr>\n    <tr>\n      <th>128</th>\n      <td>M</td>\n      <td>OTHER MISCELLANEOUS CRIME</td>\n    </tr>\n    <tr>\n      <th>193</th>\n      <td>M</td>\n      <td>ROBBERY</td>\n    </tr>\n    <tr>\n      <th>194</th>\n      <td>M</td>\n      <td>TRESPASSING</td>\n    </tr>\n    <tr>\n      <th>127</th>\n      <td>M</td>\n      <td>BURGLARY FROM VEHICLE</td>\n    </tr>\n    <tr>\n      <th>4</th>\n      <td>M</td>\n      <td>VANDALISM - MISDEAMEANOR ($399 OR UNDER)</td>\n    </tr>\n    <tr>\n      <th>136</th>\n      <td>M</td>\n      <td>THEFT PLAIN - PETTY ($950 &amp; UNDER)</td>\n    </tr>\n    <tr>\n      <th>153</th>\n      <td>M</td>\n      <td>VANDALISM - FELONY ($400 &amp; OVER, ALL CHURCH VA...</td>\n    </tr>\n    <tr>\n      <th>190</th>\n      <td>M</td>\n      <td>BATTERY - SIMPLE ASSAULT</td>\n    </tr>\n    <tr>\n      <th>14</th>\n      <td>M</td>\n      <td>SHOPLIFTING - PETTY THEFT ($950 &amp; UNDER)</td>\n    </tr>\n    <tr>\n      <th>13</th>\n      <td>M</td>\n      <td>STALKING</td>\n    </tr>\n    <tr>\n      <th>185</th>\n      <td>M</td>\n      <td>BATTERY - SIMPLE ASSAULT</td>\n    </tr>\n    <tr>\n      <th>179</th>\n      <td>M</td>\n      <td>ROBBERY</td>\n    </tr>\n    <tr>\n      <th>16</th>\n      <td>M</td>\n      <td>BATTERY - SIMPLE ASSAULT</td>\n    </tr>\n    <tr>\n      <th>186</th>\n      <td>M</td>\n      <td>BATTERY - SIMPLE ASSAULT</td>\n    </tr>\n    <tr>\n      <th>176</th>\n      <td>M</td>\n      <td>BATTERY - SIMPLE ASSAULT</td>\n    </tr>\n    <tr>\n      <th>175</th>\n      <td>M</td>\n      <td>OTHER MISCELLANEOUS CRIME</td>\n    </tr>\n    <tr>\n      <th>156</th>\n      <td>M</td>\n      <td>BATTERY - SIMPLE ASSAULT</td>\n    </tr>\n    <tr>\n      <th>12</th>\n      <td>M</td>\n      <td>THEFT PLAIN - PETTY ($950 &amp; UNDER)</td>\n    </tr>\n    <tr>\n      <th>173</th>\n      <td>M</td>\n      <td>BURGLARY</td>\n    </tr>\n    <tr>\n      <th>188</th>\n      <td>M</td>\n      <td>BOMB SCARE</td>\n    </tr>\n    <tr>\n      <th>171</th>\n      <td>M</td>\n      <td>TRESPASSING</td>\n    </tr>\n    <tr>\n      <th>170</th>\n      <td>M</td>\n      <td>OTHER MISCELLANEOUS CRIME</td>\n    </tr>\n    <tr>\n      <th>161</th>\n      <td>M</td>\n      <td>SHOPLIFTING - PETTY THEFT ($950 &amp; UNDER)</td>\n    </tr>\n    <tr>\n      <th>160</th>\n      <td>M</td>\n      <td>BATTERY - SIMPLE ASSAULT</td>\n    </tr>\n    <tr>\n      <th>19</th>\n      <td>M</td>\n      <td>EMBEZZLEMENT, PETTY THEFT ($950 &amp; UNDER)</td>\n    </tr>\n    <tr>\n      <th>174</th>\n      <td>M</td>\n      <td>VANDALISM - MISDEAMEANOR ($399 OR UNDER)</td>\n    </tr>\n    <tr>\n      <th>45</th>\n      <td>M</td>\n      <td>THROWING OBJECT AT MOVING VEHICLE</td>\n    </tr>\n    <tr>\n      <th>107</th>\n      <td>M</td>\n      <td>TRESPASSING</td>\n    </tr>\n    <tr>\n      <th>113</th>\n      <td>M</td>\n      <td>CHILD NEGLECT (SEE 300 W.I.C.)</td>\n    </tr>\n    <tr>\n      <th>67</th>\n      <td>M</td>\n      <td>ASSAULT WITH DEADLY WEAPON, AGGRAVATED ASSAULT</td>\n    </tr>\n    <tr>\n      <th>66</th>\n      <td>M</td>\n      <td>ATTEMPTED ROBBERY</td>\n    </tr>\n    <tr>\n      <th>36</th>\n      <td>M</td>\n      <td>RESISTING ARREST</td>\n    </tr>\n    <tr>\n      <th>63</th>\n      <td>M</td>\n      <td>THEFT PLAIN - PETTY ($950 &amp; UNDER)</td>\n    </tr>\n    <tr>\n      <th>62</th>\n      <td>M</td>\n      <td>BATTERY - SIMPLE ASSAULT</td>\n    </tr>\n    <tr>\n      <th>38</th>\n      <td>M</td>\n      <td>THEFT-GRAND ($950.01 &amp; OVER)EXCPT,GUNS,FOWL,LI...</td>\n    </tr>\n    <tr>\n      <th>60</th>\n      <td>M</td>\n      <td>THEFT-GRAND ($950.01 &amp; OVER)EXCPT,GUNS,FOWL,LI...</td>\n    </tr>\n    <tr>\n      <th>59</th>\n      <td>M</td>\n      <td>ROBBERY</td>\n    </tr>\n    <tr>\n      <th>68</th>\n      <td>M</td>\n      <td>VANDALISM - FELONY ($400 &amp; OVER, ALL CHURCH VA...</td>\n    </tr>\n    <tr>\n      <th>58</th>\n      <td>M</td>\n      <td>BATTERY - SIMPLE ASSAULT</td>\n    </tr>\n    <tr>\n      <th>55</th>\n      <td>M</td>\n      <td>INTIMATE PARTNER - SIMPLE ASSAULT</td>\n    </tr>\n    <tr>\n      <th>54</th>\n      <td>M</td>\n      <td>ASSAULT WITH DEADLY WEAPON, AGGRAVATED ASSAULT</td>\n    </tr>\n    <tr>\n      <th>41</th>\n      <td>M</td>\n      <td>COUNTERFEIT</td>\n    </tr>\n    <tr>\n      <th>52</th>\n      <td>M</td>\n      <td>VANDALISM - FELONY ($400 &amp; OVER, ALL CHURCH VA...</td>\n    </tr>\n    <tr>\n      <th>51</th>\n      <td>M</td>\n      <td>ROBBERY</td>\n    </tr>\n    <tr>\n      <th>43</th>\n      <td>M</td>\n      <td>BATTERY - SIMPLE ASSAULT</td>\n    </tr>\n    <tr>\n      <th>49</th>\n      <td>M</td>\n      <td>ROBBERY</td>\n    </tr>\n    <tr>\n      <th>44</th>\n      <td>M</td>\n      <td>ASSAULT WITH DEADLY WEAPON, AGGRAVATED ASSAULT</td>\n    </tr>\n    <tr>\n      <th>57</th>\n      <td>M</td>\n      <td>BATTERY - SIMPLE ASSAULT</td>\n    </tr>\n    <tr>\n      <th>69</th>\n      <td>M</td>\n      <td>INTIMATE PARTNER - SIMPLE ASSAULT</td>\n    </tr>\n    <tr>\n      <th>71</th>\n      <td>M</td>\n      <td>BATTERY - SIMPLE ASSAULT</td>\n    </tr>\n    <tr>\n      <th>73</th>\n      <td>M</td>\n      <td>THEFT PLAIN - PETTY ($950 &amp; UNDER)</td>\n    </tr>\n    <tr>\n      <th>106</th>\n      <td>M</td>\n      <td>CHILD ABUSE (PHYSICAL) - SIMPLE ASSAULT</td>\n    </tr>\n    <tr>\n      <th>103</th>\n      <td>M</td>\n      <td>BURGLARY</td>\n    </tr>\n    <tr>\n      <th>27</th>\n      <td>M</td>\n      <td>BIKE - STOLEN</td>\n    </tr>\n    <tr>\n      <th>28</th>\n      <td>M</td>\n      <td>ROBBERY</td>\n    </tr>\n    <tr>\n      <th>30</th>\n      <td>M</td>\n      <td>SODOMY/SEXUAL CONTACT B/W PENIS OF ONE PERS TO...</td>\n    </tr>\n    <tr>\n      <th>31</th>\n      <td>M</td>\n      <td>INTIMATE PARTNER - SIMPLE ASSAULT</td>\n    </tr>\n    <tr>\n      <th>88</th>\n      <td>M</td>\n      <td>BATTERY - SIMPLE ASSAULT</td>\n    </tr>\n    <tr>\n      <th>87</th>\n      <td>M</td>\n      <td>VANDALISM - MISDEAMEANOR ($399 OR UNDER)</td>\n    </tr>\n    <tr>\n      <th>86</th>\n      <td>M</td>\n      <td>BATTERY - SIMPLE ASSAULT</td>\n    </tr>\n    <tr>\n      <th>85</th>\n      <td>M</td>\n      <td>BATTERY - SIMPLE ASSAULT</td>\n    </tr>\n    <tr>\n      <th>84</th>\n      <td>M</td>\n      <td>TRESPASSING</td>\n    </tr>\n    <tr>\n      <th>83</th>\n      <td>M</td>\n      <td>OTHER MISCELLANEOUS CRIME</td>\n    </tr>\n    <tr>\n      <th>82</th>\n      <td>M</td>\n      <td>ROBBERY</td>\n    </tr>\n    <tr>\n      <th>79</th>\n      <td>M</td>\n      <td>ASSAULT WITH DEADLY WEAPON, AGGRAVATED ASSAULT</td>\n    </tr>\n    <tr>\n      <th>197</th>\n      <td>M</td>\n      <td>BATTERY - SIMPLE ASSAULT</td>\n    </tr>\n    <tr>\n      <th>77</th>\n      <td>M</td>\n      <td>ASSAULT WITH DEADLY WEAPON, AGGRAVATED ASSAULT</td>\n    </tr>\n    <tr>\n      <th>76</th>\n      <td>M</td>\n      <td>OTHER MISCELLANEOUS CRIME</td>\n    </tr>\n    <tr>\n      <th>75</th>\n      <td>M</td>\n      <td>DEFRAUDING INNKEEPER/THEFT OF SERVICES, $400 &amp;...</td>\n    </tr>\n    <tr>\n      <th>74</th>\n      <td>M</td>\n      <td>ASSAULT WITH DEADLY WEAPON, AGGRAVATED ASSAULT</td>\n    </tr>\n    <tr>\n      <th>122</th>\n      <td>M</td>\n      <td>OTHER ASSAULT</td>\n    </tr>\n    <tr>\n      <th>78</th>\n      <td>M</td>\n      <td>OTHER MISCELLANEOUS CRIME</td>\n    </tr>\n  </tbody>\n</table>\n</div>"
     },
     "execution_count": 148,
     "metadata": {},
     "output_type": "execute_result"
    }
   ],
   "source": [
    "df2.sort_values(by=['victim_sex'])"
   ],
   "metadata": {
    "collapsed": false,
    "ExecuteTime": {
     "end_time": "2023-12-16T01:20:45.259795300Z",
     "start_time": "2023-12-16T01:20:45.242488400Z"
    }
   },
   "id": "ae4011d2336420ba"
  },
  {
   "cell_type": "markdown",
   "source": [
    "Снова сортироввка для удобства"
   ],
   "metadata": {
    "collapsed": false
   },
   "id": "34998bf2c8d2235b"
  },
  {
   "cell_type": "code",
   "execution_count": 149,
   "outputs": [
    {
     "data": {
      "text/plain": "crime_code_description\nINTIMATE PARTNER - SIMPLE ASSAULT                               17\nBATTERY - SIMPLE ASSAULT                                         8\nROBBERY                                                          4\nBURGLARY FROM VEHICLE                                            4\nASSAULT WITH DEADLY WEAPON, AGGRAVATED ASSAULT                   3\nBURGLARY                                                         2\nVANDALISM - MISDEAMEANOR ($399 OR UNDER)                         2\nTRESPASSING                                                      2\nSHOPLIFTING - PETTY THEFT ($950 & UNDER)                         1\nTHEFT PLAIN - PETTY ($950 & UNDER)                               1\nTHEFT, PERSON                                                    1\nINDECENT EXPOSURE                                                1\nSHOPLIFTING-GRAND THEFT ($950.01 & OVER)                         1\nCRIMINAL THREATS - NO WEAPON DISPLAYED                           1\nBATTERY WITH SEXUAL CONTACT                                      1\nCRIMINAL HOMICIDE                                                1\nDEFRAUDING INNKEEPER/THEFT OF SERVICES, $400 & UNDER             1\nATTEMPTED ROBBERY                                                1\nEMBEZZLEMENT, GRAND THEFT ($950.01 & OVER)                       1\nTHEFT-GRAND ($950.01 & OVER)EXCPT,GUNS,FOWL,LIVESTK,PROD0036     1\nName: count, dtype: int64"
     },
     "execution_count": 149,
     "metadata": {},
     "output_type": "execute_result"
    }
   ],
   "source": [
    "df2[df2.victim_sex==\"F\"].crime_code_description.value_counts()"
   ],
   "metadata": {
    "collapsed": false,
    "ExecuteTime": {
     "end_time": "2023-12-16T01:20:45.261779400Z",
     "start_time": "2023-12-16T01:20:45.252561700Z"
    }
   },
   "id": "b0d31e15509348ff"
  },
  {
   "cell_type": "markdown",
   "source": [
    "Количество преступлений, от которых страдают женщины с их подсчетом"
   ],
   "metadata": {
    "collapsed": false
   },
   "id": "3959a5467c521297"
  },
  {
   "cell_type": "code",
   "execution_count": 150,
   "outputs": [
    {
     "data": {
      "text/plain": "crime_code_description\nBATTERY - SIMPLE ASSAULT                                           18\nROBBERY                                                             8\nASSAULT WITH DEADLY WEAPON, AGGRAVATED ASSAULT                      7\nOTHER MISCELLANEOUS CRIME                                           6\nTRESPASSING                                                         4\nTHEFT PLAIN - PETTY ($950 & UNDER)                                  4\nINTIMATE PARTNER - SIMPLE ASSAULT                                   3\nBURGLARY                                                            3\nVANDALISM - FELONY ($400 & OVER, ALL CHURCH VANDALISMS) 0114        3\nVANDALISM - MISDEAMEANOR ($399 OR UNDER)                            3\nSHOPLIFTING - PETTY THEFT ($950 & UNDER)                            3\nTHEFT-GRAND ($950.01 & OVER)EXCPT,GUNS,FOWL,LIVESTK,PROD0036        2\nBURGLARY FROM VEHICLE                                               2\nSODOMY/SEXUAL CONTACT B/W PENIS OF ONE PERS TO ANUS OTH 0007=02     1\nBOMB SCARE                                                          1\nCRIMINAL THREATS - NO WEAPON DISPLAYED                              1\nOTHER ASSAULT                                                       1\nCHILD NEGLECT (SEE 300 W.I.C.)                                      1\nCHILD ABUSE (PHYSICAL) - SIMPLE ASSAULT                             1\nSTALKING                                                            1\nEMBEZZLEMENT, PETTY THEFT ($950 & UNDER)                            1\nRESISTING ARREST                                                    1\nDEFRAUDING INNKEEPER/THEFT OF SERVICES, $400 & UNDER                1\nATTEMPTED ROBBERY                                                   1\nDOCUMENT FORGERY / STOLEN FELONY                                    1\nTHROWING OBJECT AT MOVING VEHICLE                                   1\nBIKE - STOLEN                                                       1\nCOUNTERFEIT                                                         1\nEXTORTION                                                           1\nName: count, dtype: int64"
     },
     "execution_count": 150,
     "metadata": {},
     "output_type": "execute_result"
    }
   ],
   "source": [
    "df2[df2.victim_sex==\"M\"].crime_code_description.value_counts()"
   ],
   "metadata": {
    "collapsed": false,
    "ExecuteTime": {
     "end_time": "2023-12-16T01:20:45.381450600Z",
     "start_time": "2023-12-16T01:20:45.257794300Z"
    }
   },
   "id": "c1636cabd37d5952"
  },
  {
   "cell_type": "markdown",
   "source": [
    "Количество преступлений, от которых страдают мужчины с их подсчетом"
   ],
   "metadata": {
    "collapsed": false
   },
   "id": "9c62a49912b59643"
  },
  {
   "cell_type": "code",
   "execution_count": 151,
   "outputs": [
    {
     "data": {
      "text/plain": "victim_descent\nH                 62\nW                 33\nB                 30\nO                  6\nA                  3\nX                  2\nName: count, dtype: int64"
     },
     "execution_count": 151,
     "metadata": {},
     "output_type": "execute_result"
    }
   ],
   "source": [
    "df3 = crime[[\"victim_descent\"]].copy()\n",
    "df3.dropna(inplace=True)\n",
    "df3.value_counts()"
   ],
   "metadata": {
    "collapsed": false,
    "ExecuteTime": {
     "end_time": "2023-12-16T01:20:45.382451Z",
     "start_time": "2023-12-16T01:20:45.262775900Z"
    }
   },
   "id": "fef2aa72517ab6ab"
  },
  {
   "cell_type": "markdown",
   "source": [
    "Создаем третий датафрейм, в котором отображаем количество жертв по их происхождению"
   ],
   "metadata": {
    "collapsed": false
   },
   "id": "46953abf9faa0fca"
  },
  {
   "cell_type": "code",
   "execution_count": 152,
   "outputs": [
    {
     "data": {
      "text/plain": "victim_descent  area_name  \nH               Central        55\nB               Central        30\nW               Central        29\nO               Central         4\nA               Central         3\nH               77th Street     2\n                N Hollywood     1\n                Newton          1\n                Pacific         1\n                Southeast       1\n                Devonshire      1\nO               N Hollywood     1\n                Van Nuys        1\nW               77th Street     1\n                Northeast       1\n                Pacific         1\n                Topanga         1\nX               Central         1\n                N Hollywood     1\nName: count, dtype: int64"
     },
     "execution_count": 152,
     "metadata": {},
     "output_type": "execute_result"
    }
   ],
   "source": [
    "df4 = crime[['victim_descent','area_name']].copy()\n",
    "df4.value_counts()"
   ],
   "metadata": {
    "collapsed": false,
    "ExecuteTime": {
     "end_time": "2023-12-16T01:20:45.383451500Z",
     "start_time": "2023-12-16T01:20:45.272064900Z"
    }
   },
   "id": "e402db44e2e02c87"
  },
  {
   "cell_type": "code",
   "execution_count": 153,
   "outputs": [
    {
     "data": {
      "text/plain": "victim_descent\nH    55\nB    30\nW    29\nO     4\nA     3\nX     1\nName: count, dtype: int64"
     },
     "execution_count": 153,
     "metadata": {},
     "output_type": "execute_result"
    }
   ],
   "source": [
    "df4[df4.area_name==\"Central\"].victim_descent.value_counts()"
   ],
   "metadata": {
    "collapsed": false,
    "ExecuteTime": {
     "end_time": "2023-12-16T01:20:45.384451300Z",
     "start_time": "2023-12-16T01:20:45.280067400Z"
    }
   },
   "id": "c6223f4b208041cc"
  },
  {
   "cell_type": "code",
   "execution_count": 154,
   "outputs": [
    {
     "data": {
      "text/plain": "victim_descent\nH    1\nName: count, dtype: int64"
     },
     "execution_count": 154,
     "metadata": {},
     "output_type": "execute_result"
    }
   ],
   "source": [
    "df4[df4.area_name==\"Newton\"].victim_descent.value_counts()"
   ],
   "metadata": {
    "collapsed": false,
    "ExecuteTime": {
     "end_time": "2023-12-16T01:20:45.399455600Z",
     "start_time": "2023-12-16T01:20:45.286871800Z"
    }
   },
   "id": "d59227b9b6ab78f3"
  },
  {
   "cell_type": "code",
   "execution_count": 155,
   "outputs": [
    {
     "data": {
      "text/plain": "victim_descent\nH    2\nW    1\nName: count, dtype: int64"
     },
     "execution_count": 155,
     "metadata": {},
     "output_type": "execute_result"
    }
   ],
   "source": [
    "df4[df4.area_name==\"77th Street\"].victim_descent.value_counts()"
   ],
   "metadata": {
    "collapsed": false,
    "ExecuteTime": {
     "end_time": "2023-12-16T01:20:45.400455900Z",
     "start_time": "2023-12-16T01:20:45.291873200Z"
    }
   },
   "id": "a9ab0cf28787baed"
  },
  {
   "cell_type": "code",
   "execution_count": 156,
   "outputs": [
    {
     "data": {
      "text/plain": "Series([], Name: count, dtype: int64)"
     },
     "execution_count": 156,
     "metadata": {},
     "output_type": "execute_result"
    }
   ],
   "source": [
    "df4[df4.area_name==\"Mission\"].victim_descent.value_counts()"
   ],
   "metadata": {
    "collapsed": false,
    "ExecuteTime": {
     "end_time": "2023-12-16T01:20:45.453472200Z",
     "start_time": "2023-12-16T01:20:45.297107500Z"
    }
   },
   "id": "60c6a9caf5eda5c4"
  },
  {
   "cell_type": "code",
   "execution_count": 157,
   "outputs": [
    {
     "data": {
      "text/plain": "victim_descent\nH    1\nName: count, dtype: int64"
     },
     "execution_count": 157,
     "metadata": {},
     "output_type": "execute_result"
    }
   ],
   "source": [
    "df4[df4.area_name==\"Southeast\"].victim_descent.value_counts()"
   ],
   "metadata": {
    "collapsed": false,
    "ExecuteTime": {
     "end_time": "2023-12-16T01:20:45.454472200Z",
     "start_time": "2023-12-16T01:20:45.335246700Z"
    }
   },
   "id": "53b212c2b8083cbe"
  },
  {
   "cell_type": "code",
   "execution_count": 158,
   "outputs": [
    {
     "data": {
      "text/plain": "Series([], Name: count, dtype: int64)"
     },
     "execution_count": 158,
     "metadata": {},
     "output_type": "execute_result"
    }
   ],
   "source": [
    "df4[df4.area_name==\"Foothill\"].victim_descent.value_counts()"
   ],
   "metadata": {
    "collapsed": false,
    "ExecuteTime": {
     "end_time": "2023-12-16T01:20:45.454472200Z",
     "start_time": "2023-12-16T01:20:45.336247100Z"
    }
   },
   "id": "5e3e2c84e821f6ed"
  },
  {
   "cell_type": "code",
   "execution_count": 159,
   "outputs": [
    {
     "data": {
      "text/plain": "victim_descent\nW    1\nName: count, dtype: int64"
     },
     "execution_count": 159,
     "metadata": {},
     "output_type": "execute_result"
    }
   ],
   "source": [
    "df4[df4.area_name==\"Northeast\"].victim_descent.value_counts()"
   ],
   "metadata": {
    "collapsed": false,
    "ExecuteTime": {
     "end_time": "2023-12-16T01:20:45.455472600Z",
     "start_time": "2023-12-16T01:20:45.336247100Z"
    }
   },
   "id": "36940369cf55858e"
  },
  {
   "cell_type": "code",
   "execution_count": 160,
   "outputs": [
    {
     "data": {
      "text/plain": "Series([], Name: count, dtype: int64)"
     },
     "execution_count": 160,
     "metadata": {},
     "output_type": "execute_result"
    }
   ],
   "source": [
    "df4[df4.area_name==\"Olympic\"].victim_descent.value_counts()"
   ],
   "metadata": {
    "collapsed": false,
    "ExecuteTime": {
     "end_time": "2023-12-16T01:20:45.455472600Z",
     "start_time": "2023-12-16T01:20:45.336247100Z"
    }
   },
   "id": "bcb312709639ccff"
  },
  {
   "cell_type": "code",
   "execution_count": 161,
   "outputs": [
    {
     "data": {
      "text/plain": "victim_descent\nH    1\nW    1\nName: count, dtype: int64"
     },
     "execution_count": 161,
     "metadata": {},
     "output_type": "execute_result"
    }
   ],
   "source": [
    "df4[df4.area_name==\"Pacific\"].victim_descent.value_counts()"
   ],
   "metadata": {
    "collapsed": false,
    "ExecuteTime": {
     "end_time": "2023-12-16T01:20:45.456473Z",
     "start_time": "2023-12-16T01:20:45.336247100Z"
    }
   },
   "id": "5feea1b7c341b469"
  },
  {
   "cell_type": "code",
   "execution_count": 162,
   "outputs": [
    {
     "data": {
      "text/plain": "victim_descent\nO    1\nH    1\nX    1\nName: count, dtype: int64"
     },
     "execution_count": 162,
     "metadata": {},
     "output_type": "execute_result"
    }
   ],
   "source": [
    "df4[df4.area_name==\"N Hollywood\"].victim_descent.value_counts()"
   ],
   "metadata": {
    "collapsed": false,
    "ExecuteTime": {
     "end_time": "2023-12-16T01:20:45.456473Z",
     "start_time": "2023-12-16T01:20:45.340451Z"
    }
   },
   "id": "fea4ddcddd83ef43"
  },
  {
   "cell_type": "markdown",
   "source": [
    "Для каждого района произведем подсчет жертв по их происхождению. В выводах данные сразу отсортированы по убыванию, что облегчает анализ количества жертв для каждого района по их происхождению. После отработки некоторых блоков вывод остался пустым, что означает, что в данном районе не было совершено преступлений, либо происхождение жертв не было установлено"
   ],
   "metadata": {
    "collapsed": false
   },
   "id": "78abd399863a4327"
  }
 ],
 "metadata": {
  "kernelspec": {
   "display_name": "Python 3",
   "language": "python",
   "name": "python3"
  },
  "language_info": {
   "codemirror_mode": {
    "name": "ipython",
    "version": 2
   },
   "file_extension": ".py",
   "mimetype": "text/x-python",
   "name": "python",
   "nbconvert_exporter": "python",
   "pygments_lexer": "ipython2",
   "version": "2.7.6"
  }
 },
 "nbformat": 4,
 "nbformat_minor": 5
}
